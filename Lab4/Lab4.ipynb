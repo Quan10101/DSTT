{
  "nbformat": 4,
  "nbformat_minor": 0,
  "metadata": {
    "colab": {
      "provenance": []
    },
    "kernelspec": {
      "name": "python3",
      "display_name": "Python 3"
    },
    "language_info": {
      "name": "python"
    }
  },
  "cells": [
    {
      "cell_type": "markdown",
      "source": [
        "BÀI TẬP TRÊN LỚP"
      ],
      "metadata": {
        "id": "n8mkfz70S4a9"
      }
    },
    {
      "cell_type": "code",
      "source": [
        "#1. Định thức và các tính chất\n",
        "import numpy as np\n",
        "n = 4\n",
        "X = np.array(range(1,n+1))\n",
        "sigma = np.array([4,3,2,1])\n",
        "def sgn_by_def(sigma):\n",
        "  ket_qua = 1.0\n",
        "  for i in range(len(X) - 1):\n",
        "    for j in range(i+1, len(X)):\n",
        "      ket_qua = ket_qua * ((X[i]-X[j])/(sigma[i]-sigma[j]))\n",
        "  return int(ket_qua)\n",
        "sigma = np.array([2,1,3,4])\n",
        "sgn_by_def(sigma)"
      ],
      "metadata": {
        "colab": {
          "base_uri": "https://localhost:8080/"
        },
        "id": "YAGjMansS8Tw",
        "outputId": "a056307f-edfe-4065-c47e-b61fd01e3707"
      },
      "execution_count": 10,
      "outputs": [
        {
          "output_type": "execute_result",
          "data": {
            "text/plain": [
              "-1"
            ]
          },
          "metadata": {},
          "execution_count": 10
        }
      ]
    },
    {
      "cell_type": "code",
      "source": [
        "sigma = np.array([1,2,3,4])\n",
        "sgn_by_def(sigma)"
      ],
      "metadata": {
        "colab": {
          "base_uri": "https://localhost:8080/"
        },
        "id": "COBgOzqjVVeQ",
        "outputId": "e844cfd0-32f3-477a-e78a-4e26fa781c35"
      },
      "execution_count": 11,
      "outputs": [
        {
          "output_type": "execute_result",
          "data": {
            "text/plain": [
              "1"
            ]
          },
          "metadata": {},
          "execution_count": 11
        }
      ]
    },
    {
      "cell_type": "code",
      "source": [
        "sigma = np.array([4,3,2,1])\n",
        "sgn_by_def(sigma)"
      ],
      "metadata": {
        "colab": {
          "base_uri": "https://localhost:8080/"
        },
        "id": "aqxpNodGVaaN",
        "outputId": "f4c12315-167e-43dd-ddf8-b6e4aa04a264"
      },
      "execution_count": 12,
      "outputs": [
        {
          "output_type": "execute_result",
          "data": {
            "text/plain": [
              "1"
            ]
          },
          "metadata": {},
          "execution_count": 12
        }
      ]
    },
    {
      "cell_type": "code",
      "source": [
        "from itertools import permutations\n",
        "n = 3\n",
        "X = []\n",
        "for i in range(1, n+1):\n",
        "  X.append(i)\n",
        "Sn = list(permutations(X))\n",
        "print(Sn)"
      ],
      "metadata": {
        "colab": {
          "base_uri": "https://localhost:8080/"
        },
        "id": "bjIrLpR3VliV",
        "outputId": "38a7a6fe-7676-4d93-84d4-373f18f309cc"
      },
      "execution_count": 13,
      "outputs": [
        {
          "output_type": "stream",
          "name": "stdout",
          "text": [
            "[(1, 2, 3), (1, 3, 2), (2, 1, 3), (2, 3, 1), (3, 1, 2), (3, 2, 1)]\n"
          ]
        }
      ]
    },
    {
      "cell_type": "code",
      "source": [
        "#Đoạn code 1:\n",
        "def sgn_by_def(sigma):\n",
        "    count = 0\n",
        "    n = len(sigma)\n",
        "    for i in range(n):\n",
        "        for j in range(i + 1, n):\n",
        "            if sigma[i] > sigma[j]:\n",
        "                count += 1\n",
        "    return -1 if count % 2 else 1\n",
        "\n",
        "def phatsinh_dinhthuc(n):\n",
        "    X = list(range(1, n + 1))\n",
        "    Sn = list(permutations(X))\n",
        "    dinhthuc = \"\"\n",
        "    for sn in Sn:\n",
        "        product = \"\"\n",
        "        for i in range(n):\n",
        "            product += \"a\" + str(i + 1) + str(sn[i])\n",
        "        dau = sgn_by_def(sn)\n",
        "        product = (\"+\" if dau == 1 else \"-\") + product\n",
        "        dinhthuc += product\n",
        "    return dinhthuc\n",
        "\n",
        "print(phatsinh_dinhthuc(2))\n"
      ],
      "metadata": {
        "colab": {
          "base_uri": "https://localhost:8080/"
        },
        "id": "d6Qx3Tl8V8nd",
        "outputId": "fc12aef3-c270-48cb-d4fe-47d1300af161"
      },
      "execution_count": 17,
      "outputs": [
        {
          "output_type": "stream",
          "name": "stdout",
          "text": [
            "+a11a22-a12a21\n"
          ]
        }
      ]
    },
    {
      "cell_type": "code",
      "source": [
        "print(phatsinh_dinhthuc(3))"
      ],
      "metadata": {
        "colab": {
          "base_uri": "https://localhost:8080/"
        },
        "id": "2dS-uQtJZDBq",
        "outputId": "b3f8c762-e45b-4cc7-8262-383922317c08"
      },
      "execution_count": 18,
      "outputs": [
        {
          "output_type": "stream",
          "name": "stdout",
          "text": [
            "+a11a22a33-a11a23a32-a12a21a33+a12a23a31+a13a21a32-a13a22a31\n"
          ]
        }
      ]
    },
    {
      "cell_type": "code",
      "source": [
        "#Đoạn code 2:\n",
        "def tinhtoan_dinhthuc(A):\n",
        "  X = []\n",
        "  import math\n",
        "  n = int(math.sqrt(A.size))\n",
        "  for i in range(1, n+1):\n",
        "    X.append(i)\n",
        "  Sn = list(permutations(X))\n",
        "  dinhthuc = 0\n",
        "  for sn in Sn:\n",
        "    sigma = np.array([1])\n",
        "    sigma.resize([n])\n",
        "    product = 1\n",
        "    for i in range(1, n+1):\n",
        "      sigma[sn.index(i)] = i\n",
        "      product = product * A[i-1][sn.index(i)]\n",
        "    dau = sgn_by_def(sigma)\n",
        "    if (dau != 1):\n",
        "      product = product * (-1)\n",
        "    dinhthuc = dinhthuc + product\n",
        "  return dinhthuc\n",
        "matran = np.array([[3,5,-8],[4,12,-1],[2,5,3]])\n",
        "print(tinhtoan_dinhthuc(matran))"
      ],
      "metadata": {
        "colab": {
          "base_uri": "https://localhost:8080/"
        },
        "id": "JAfHNH6aZHAI",
        "outputId": "ee03d9bb-8b43-4dde-8b72-5e142a2c8e4d"
      },
      "execution_count": 25,
      "outputs": [
        {
          "output_type": "stream",
          "name": "stdout",
          "text": [
            "85\n"
          ]
        }
      ]
    },
    {
      "cell_type": "code",
      "source": [
        "#3. Quy tắc Cramer\n",
        "import numpy as np\n",
        "A = np.array([[4, -2],[3, -5]])\n",
        "A1 = np.array([[10, -2],[11, -5]])\n",
        "A2 = np.array([[4, 10],[3, 11]])\n",
        "from scipy import linalg\n",
        "detA = linalg.det(A)\n",
        "detA1 = linalg.det(A1)\n",
        "detA2 = linalg.det(A2)\n",
        "print(detA, detA1, detA2)"
      ],
      "metadata": {
        "colab": {
          "base_uri": "https://localhost:8080/"
        },
        "id": "nBEKJ4XAasUM",
        "outputId": "c2aee9f2-7887-4bd2-8419-1bd1c54146b6"
      },
      "execution_count": 26,
      "outputs": [
        {
          "output_type": "stream",
          "name": "stdout",
          "text": [
            "-14.0 -28.0 14.000000000000004\n"
          ]
        }
      ]
    },
    {
      "cell_type": "code",
      "source": [
        "if (detA != 0):\n",
        "  x1 = detA1 / detA\n",
        "  x2 = detA2 / detA\n",
        "  print (\"Hai nghiệm của phương trình là: \", x1, x2)"
      ],
      "metadata": {
        "colab": {
          "base_uri": "https://localhost:8080/"
        },
        "id": "GkuUZWGubO8R",
        "outputId": "f4ea81a7-3976-47b5-d717-9da8f5ce97d8"
      },
      "execution_count": 27,
      "outputs": [
        {
          "output_type": "stream",
          "name": "stdout",
          "text": [
            "Hai nghiệm của phương trình là:  2.0 -1.0000000000000002\n"
          ]
        }
      ]
    },
    {
      "cell_type": "code",
      "source": [
        "print(tinhtoan_dinhthuc(A))"
      ],
      "metadata": {
        "colab": {
          "base_uri": "https://localhost:8080/"
        },
        "id": "iqOcfIPEbXJF",
        "outputId": "8ba5b492-dbdb-47c2-bb64-ebc2322e9878"
      },
      "execution_count": 28,
      "outputs": [
        {
          "output_type": "stream",
          "name": "stdout",
          "text": [
            "-14\n"
          ]
        }
      ]
    },
    {
      "cell_type": "code",
      "source": [
        "print(tinhtoan_dinhthuc(A1))"
      ],
      "metadata": {
        "colab": {
          "base_uri": "https://localhost:8080/"
        },
        "id": "Hh8hMUiNbft4",
        "outputId": "c3175241-d3a6-4cd1-aa19-1a7a435c3ecd"
      },
      "execution_count": 29,
      "outputs": [
        {
          "output_type": "stream",
          "name": "stdout",
          "text": [
            "-28\n"
          ]
        }
      ]
    },
    {
      "cell_type": "code",
      "source": [
        "print(tinhtoan_dinhthuc(A2))"
      ],
      "metadata": {
        "colab": {
          "base_uri": "https://localhost:8080/"
        },
        "id": "57vqXrfmbid_",
        "outputId": "b212035b-21e5-4be3-8dd6-e444a5df77e9"
      },
      "execution_count": 30,
      "outputs": [
        {
          "output_type": "stream",
          "name": "stdout",
          "text": [
            "14\n"
          ]
        }
      ]
    },
    {
      "cell_type": "code",
      "source": [
        "#Hệ ba phương trình tuyến tính bậc 1:\n",
        "import numpy as np\n",
        "A = np.array([[-1, 2, -3],\n",
        "              [2, -2, 1],\n",
        "              [3, -4, 4]])\n",
        "\n",
        "B = np.array([1, 3, 2])\n",
        "\n",
        "rank_A = np.linalg.matrix_rank(A)\n",
        "augmented_matrix = np.column_stack((A, B))\n",
        "rank_augmented = np.linalg.matrix_rank(augmented_matrix)\n",
        "if rank_A == rank_augmented:\n",
        "    if rank_A == A.shape[1]:\n",
        "        solution = np.linalg.solve(A, B)\n",
        "        print(\"Hệ có nghiệm duy nhất:\")\n",
        "        print(f\"a = {solution[0]}\")\n",
        "        print(f\"e = {solution[1]}\")\n",
        "        print(f\"f = {solution[2]}\")\n",
        "    else:\n",
        "        print(\"Hệ có vô số nghiệm\")\n",
        "else:\n",
        "    print(\"Hệ vô nghiệm\")"
      ],
      "metadata": {
        "colab": {
          "base_uri": "https://localhost:8080/"
        },
        "id": "3TrOeH6xbkZt",
        "outputId": "17c536a7-cc45-4645-b6ca-a2fcdbca46ec"
      },
      "execution_count": 35,
      "outputs": [
        {
          "output_type": "stream",
          "name": "stdout",
          "text": [
            "Hệ có vô số nghiệm\n"
          ]
        }
      ]
    },
    {
      "cell_type": "code",
      "source": [
        "#Tính toán theo phương pháp scipy.linalg.det:\n",
        "from scipy.linalg import det\n",
        "detA = det(A)\n",
        "\n",
        "AX = np.array([B, A[:,1], A[:,2]]).T\n",
        "AY = np.array([A[:,0], B, A[:,2]]).T\n",
        "AZ = np.array([A[:,0], A[:,1], B]).T\n",
        "\n",
        "detX = det(AX)\n",
        "detY = det(AY)\n",
        "detZ = det(AZ)\n",
        "\n",
        "if detA == 0:\n",
        "    print(\"Hệ phương trình vô nghiệm hoặc vô số nghiệm (định thức = 0)\")\n",
        "else:\n",
        "  x, y, z = detX/detA, detY/detA, detZ/detA\n",
        "  print(\"Nghiệm của phương trình: x =\", x, \"y =\", y, \"z =\", z)\n"
      ],
      "metadata": {
        "colab": {
          "base_uri": "https://localhost:8080/"
        },
        "id": "Iu2Pn4zTcP0B",
        "outputId": "9b4d0e00-79f7-491e-ecd1-2da9a628ff45"
      },
      "execution_count": 43,
      "outputs": [
        {
          "output_type": "stream",
          "name": "stdout",
          "text": [
            "Hệ phương trình vô nghiệm hoặc vô số nghiệm (định thức = 0)\n"
          ]
        }
      ]
    },
    {
      "cell_type": "code",
      "source": [
        "#Tính toán theo phương pháp tinhtoan_dinhthuc()\n",
        "detA = tinhtoan_dinhthuc(A)\n",
        "detX = tinhtoan_dinhthuc(AX)\n",
        "detY = tinhtoan_dinhthuc(AY)\n",
        "detZ = tinhtoan_dinhthuc(AZ)\n",
        "if detA == 0:\n",
        "    print(\"Hệ phương trình vô nghiệm hoặc vô số nghiệm (định thức = 0)\")\n",
        "else:\n",
        "    x = detX / detA\n",
        "    y = detY / detA\n",
        "    z = detZ / detA\n",
        "    print(\"Nghiệm\", \"x =\", x, \"y =\", y, \"z =\", z)"
      ],
      "metadata": {
        "colab": {
          "base_uri": "https://localhost:8080/"
        },
        "id": "gAVYsr-sdW1r",
        "outputId": "9ab62058-29ea-46de-f0ce-8b0a8cf3e55a"
      },
      "execution_count": 39,
      "outputs": [
        {
          "output_type": "stream",
          "name": "stdout",
          "text": [
            "Hệ phương trình vô nghiệm hoặc vô số nghiệm (định thức = 0)\n"
          ]
        }
      ]
    },
    {
      "cell_type": "code",
      "source": [
        "import sympy as sp\n",
        "TG = sp.Matrix([[1, 0, 1],[4, 3, 1],[2, 2, 1]])\n",
        "1/2*TG.det()"
      ],
      "metadata": {
        "colab": {
          "base_uri": "https://localhost:8080/",
          "height": 37
        },
        "id": "UCmqsXENer2_",
        "outputId": "0466b137-49ad-404d-d7b6-e9e75f108564"
      },
      "execution_count": 45,
      "outputs": [
        {
          "output_type": "execute_result",
          "data": {
            "text/plain": [
              "1.50000000000000"
            ],
            "text/latex": "$\\displaystyle 1.5$"
          },
          "metadata": {},
          "execution_count": 45
        }
      ]
    },
    {
      "cell_type": "code",
      "source": [
        "#Ứng dụng 1:\n",
        "def tinh_dien_tich_da_giac(dinh):\n",
        "    n = len(dinh)\n",
        "    dien_tich = 0\n",
        "    for i in range(n):\n",
        "        x1, y1 = dinh[i]\n",
        "        x2, y2 = dinh[(i + 1) % n]\n",
        "        dien_tich += (x1 * y2) - (x2 * y1)\n",
        "    return abs(dien_tich) / 2\n",
        "dinh = [(4,10), (9,7), (11,2), (2,2), (4,10)]\n",
        "dien_tich = tinh_dien_tich_da_giac(dinh)\n",
        "print(\"Diện tích đa giác là:\", dien_tich)"
      ],
      "metadata": {
        "colab": {
          "base_uri": "https://localhost:8080/"
        },
        "id": "NvU7dGGUe5zi",
        "outputId": "e24dfa38-827f-4ea8-8618-4dfe09d4f909"
      },
      "execution_count": 47,
      "outputs": [
        {
          "output_type": "stream",
          "name": "stdout",
          "text": [
            "Diện tích đa giác là: 45.5\n"
          ]
        }
      ]
    },
    {
      "cell_type": "code",
      "source": [
        "#Ứng dụng 2:\n",
        "import sympy as sp\n",
        "M = sp.Matrix([[0, 4, 1, 1], [4, 0, 0, 1], [3, 5, 2, 1], [2, 2, 5, 1]])\n",
        "1/6*M.det()"
      ],
      "metadata": {
        "colab": {
          "base_uri": "https://localhost:8080/",
          "height": 37
        },
        "id": "OZg_6FQ2fMfy",
        "outputId": "042843a2-0a9b-408d-937b-04abfe806b80"
      },
      "execution_count": 49,
      "outputs": [
        {
          "output_type": "execute_result",
          "data": {
            "text/plain": [
              "-12.0000000000000"
            ],
            "text/latex": "$\\displaystyle -12.0$"
          },
          "metadata": {},
          "execution_count": 49
        }
      ]
    },
    {
      "cell_type": "code",
      "source": [
        "M = sp.Matrix([[0, 4, 1, 1], [4, 0, 0, 1], [3, 5, 2, 1], [2, 2, 5, 1]])\n",
        "M.det()"
      ],
      "metadata": {
        "colab": {
          "base_uri": "https://localhost:8080/",
          "height": 37
        },
        "id": "N3KIucyjfbvs",
        "outputId": "508cfa64-4395-4fab-b28c-7c005af02287"
      },
      "execution_count": 50,
      "outputs": [
        {
          "output_type": "execute_result",
          "data": {
            "text/plain": [
              "-72"
            ],
            "text/latex": "$\\displaystyle -72$"
          },
          "metadata": {},
          "execution_count": 50
        }
      ]
    },
    {
      "cell_type": "code",
      "source": [
        "1/6*M.det()"
      ],
      "metadata": {
        "colab": {
          "base_uri": "https://localhost:8080/",
          "height": 37
        },
        "id": "o7C9y9oTfeRk",
        "outputId": "1d48cca0-a4b7-4488-abaf-8bdd47dc2cc3"
      },
      "execution_count": 51,
      "outputs": [
        {
          "output_type": "execute_result",
          "data": {
            "text/plain": [
              "-12.0000000000000"
            ],
            "text/latex": "$\\displaystyle -12.0$"
          },
          "metadata": {},
          "execution_count": 51
        }
      ]
    },
    {
      "cell_type": "code",
      "source": [
        "#Ứng dụng 3:\n",
        "import numpy as np\n",
        "def is_coplanar_matrix(A, B, C, D):\n",
        "    M = np.array([\n",
        "        [B[0]-A[0], B[1]-A[1], B[2]-A[2]],\n",
        "        [C[0]-A[0], C[1]-A[1], C[2]-A[2]],\n",
        "        [D[0]-A[0], D[1]-A[1], D[2]-A[2]]\n",
        "    ])\n",
        "    det = np.linalg.det(M)\n",
        "    volume = abs(det) / 6\n",
        "    return volume == 0\n",
        "A = (1,2,3)\n",
        "B = (4,5,6)\n",
        "C = (7,8,9)\n",
        "D = (10,11,12)\n",
        "print(\"4 điểm cùng mặt phẳng?\", is_coplanar_matrix(A, B, C, D))"
      ],
      "metadata": {
        "colab": {
          "base_uri": "https://localhost:8080/"
        },
        "id": "SJcKA6NEf28H",
        "outputId": "6d670fab-5d90-4444-e59f-a7e215898dc7"
      },
      "execution_count": 52,
      "outputs": [
        {
          "output_type": "stream",
          "name": "stdout",
          "text": [
            "4 điểm cùng mặt phẳng? True\n"
          ]
        }
      ]
    },
    {
      "cell_type": "code",
      "source": [
        "#Ứng dụng 4:\n",
        "from sympy import *\n",
        "x, y, z = symbols('x y z')\n",
        "MP = sp.Matrix([[x, y, z, 1],[-1, 3, 2, 1],[0, 1, 0, 1],[-2, 0, 1, 1]])\n",
        "MP.det()"
      ],
      "metadata": {
        "colab": {
          "base_uri": "https://localhost:8080/",
          "height": 39
        },
        "id": "POIWeaN4gF2i",
        "outputId": "379c5601-4704-4974-fbfe-3a65e61ac931"
      },
      "execution_count": 57,
      "outputs": [
        {
          "output_type": "execute_result",
          "data": {
            "text/plain": [
              "-4*x + 3*y - 5*z - 3"
            ],
            "text/latex": "$\\displaystyle - 4 x + 3 y - 5 z - 3$"
          },
          "metadata": {},
          "execution_count": 57
        }
      ]
    },
    {
      "cell_type": "markdown",
      "source": [
        "BÀI TẬP VỀ NHÀ"
      ],
      "metadata": {
        "id": "x2kUn0i1hwbO"
      }
    },
    {
      "cell_type": "code",
      "source": [
        "#Câu 1: Hãy viết chương trình để tính các ma trận:\n",
        "import numpy as np\n",
        "def minor_matrix(A, i, j):\n",
        "    return np.delete(np.delete(A, i, axis=0), j, axis=1)\n",
        "def cofactor_matrix(A):\n",
        "    n = A.shape[0]\n",
        "    C = np.zeros((n, n))\n",
        "    for i in range(n):\n",
        "        for j in range(n):\n",
        "            minor = minor_matrix(A, i, j)\n",
        "            C[i, j] = ((-1) ** (i + j)) * np.linalg.det(minor)\n",
        "    return C\n",
        "def adjoint_matrix(A):\n",
        "\n",
        "    C = cofactor_matrix(A)\n",
        "    return C.T\n",
        "A = np.array([[1, 2, 3],\n",
        "              [0, 4, 5],\n",
        "              [1, 0, 6]])\n",
        "C = cofactor_matrix(A)\n",
        "Adj = adjoint_matrix(A)\n",
        "print(\"Ma trận A:\\n\", A)\n",
        "print(\"\\nMa trận hệ số kép (cofactor matrix):\\n\", C)\n",
        "print(\"\\nMa trận liên hợp (adjoint matrix):\\n\", Adj)"
      ],
      "metadata": {
        "colab": {
          "base_uri": "https://localhost:8080/"
        },
        "id": "-apPN9C2hlTz",
        "outputId": "f3febbc4-da02-46a0-b1c1-877fc487b771"
      },
      "execution_count": 65,
      "outputs": [
        {
          "output_type": "stream",
          "name": "stdout",
          "text": [
            "Ma trận A:\n",
            " [[1 2 3]\n",
            " [0 4 5]\n",
            " [1 0 6]]\n",
            "\n",
            "Ma trận hệ số kép (cofactor matrix):\n",
            " [[ 24.   5.  -4.]\n",
            " [-12.   3.   2.]\n",
            " [ -2.  -5.   4.]]\n",
            "\n",
            "Ma trận liên hợp (adjoint matrix):\n",
            " [[ 24. -12.  -2.]\n",
            " [  5.   3.  -5.]\n",
            " [ -4.   2.   4.]]\n"
          ]
        }
      ]
    },
    {
      "cell_type": "code",
      "source": [
        "#câu 2:\n",
        "x, y = symbols('x y')\n",
        "A = (1, 2)\n",
        "B = (3, 5)\n",
        "C = (4, 1)\n",
        "M = Matrix([\n",
        "    [A[0]**2 + A[1]**2, A[0], A[1], 1],\n",
        "    [B[0]**2 + B[1]**2, B[0], B[1], 1],\n",
        "    [C[0]**2 + C[1]**2, C[0], C[1], 1],\n",
        "    [x**2 + y**2, x, y, 1]\n",
        "])\n",
        "circle_equation = M.det()\n",
        "print(\"Phương trình đường tròn:\", circle_equation)"
      ],
      "metadata": {
        "colab": {
          "base_uri": "https://localhost:8080/"
        },
        "id": "vv3jNiUViZY4",
        "outputId": "0654a5eb-2980-4bfe-cdc9-fd78496cc73a"
      },
      "execution_count": 66,
      "outputs": [
        {
          "output_type": "stream",
          "name": "stdout",
          "text": [
            "Phương trình đường tròn: 11*x**2 - 65*x + 11*y**2 - 63*y + 136\n"
          ]
        }
      ]
    }
  ]
}