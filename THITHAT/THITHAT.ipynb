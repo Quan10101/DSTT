{
  "nbformat": 4,
  "nbformat_minor": 0,
  "metadata": {
    "colab": {
      "provenance": []
    },
    "kernelspec": {
      "name": "python3",
      "display_name": "Python 3"
    },
    "language_info": {
      "name": "python"
    }
  },
  "cells": [
    {
      "cell_type": "code",
      "execution_count": 1,
      "metadata": {
        "colab": {
          "base_uri": "https://localhost:8080/"
        },
        "id": "Ri7JrbMIkXff",
        "outputId": "bbbe07f9-b153-4cb9-ed63-3e93842bed7f"
      },
      "outputs": [
        {
          "output_type": "stream",
          "name": "stdout",
          "text": [
            "a) A + B = [2 3 1 6]\n",
            "   2A + 3B = [ 3 11  2 14]\n",
            "b) Tích vô hướng A · B = -5\n",
            "   Góc giữa hai vector = 99.594 độ\n",
            "c) Tích ma trận C · Cᵀ =\n",
            " [[14 -8 13]\n",
            " [-8 21 -2]\n",
            " [13 -2 29]]\n"
          ]
        }
      ],
      "source": [
        "#Câu 1:\n",
        "import numpy as np\n",
        "import math\n",
        "A = np.array([3, -2, 1, 4])\n",
        "B = np.array([-1, 5, 0, 2])\n",
        "C = np.array([[2, -1, 3],\n",
        "              [1, 4, -2],\n",
        "              [0, 2, 5]])\n",
        "sum_AB = A + B\n",
        "scalar_mult = 2 * A + 3 * B\n",
        "dot_product = np.dot(A, B)\n",
        "norm_A = np.linalg.norm(A)\n",
        "norm_B = np.linalg.norm(B)\n",
        "cos_theta = dot_product / (norm_A * norm_B)\n",
        "angle_deg = math.degrees(math.acos(cos_theta))\n",
        "angle_deg = round(angle_deg, 3)\n",
        "CC_T = np.dot(C, C.T)\n",
        "print(\"a) A + B =\", sum_AB)\n",
        "print(\"   2A + 3B =\", scalar_mult)\n",
        "print(\"b) Tích vô hướng A · B =\", dot_product)\n",
        "print(\"   Góc giữa hai vector =\", angle_deg, \"độ\")\n",
        "print(\"c) Tích ma trận C · Cᵀ =\\n\", CC_T)"
      ]
    },
    {
      "cell_type": "code",
      "source": [
        "#Câu 2:\n",
        "import numpy as np\n",
        "from numpy.linalg import matrix_rank, det\n",
        "M = np.array([\n",
        "    [2, -1, 3, 0],\n",
        "    [1, 4, -2, 5],\n",
        "    [0, 2, 6, -3],\n",
        "    [-1, 0, 1, 4]\n",
        "])\n",
        "N = np.array([\n",
        "    [1, 3, -2, 0],\n",
        "    [4, -1, 5, 2],\n",
        "    [0, 2, 3, -1],\n",
        "    [-3, 1, 0, 4]\n",
        "])\n",
        "product_MN = np.dot(M, N)\n",
        "det_M = None\n",
        "if M.shape[0] == M.shape[1]:\n",
        "    det_M = round(np.linalg.det(M), 3)\n",
        "else:\n",
        "    det_M = \"Không tính được vì M không phải là ma trận vuông\"\n",
        "rank_N = matrix_rank(N)\n",
        "print(\"a) M × N =\\n\", product_MN)\n",
        "print(\"b) Định thức của M =\", det_M)\n",
        "print(\"c) Hạng của N =\", rank_N)"
      ],
      "metadata": {
        "colab": {
          "base_uri": "https://localhost:8080/"
        },
        "id": "lwo2hRUElY1C",
        "outputId": "fb976853-9ab9-4ce8-9b14-d54c7bf207fd"
      },
      "execution_count": 2,
      "outputs": [
        {
          "output_type": "stream",
          "name": "stdout",
          "text": [
            "a) M × N =\n",
            " [[ -2  13   0  -5]\n",
            " [  2   0  12  30]\n",
            " [ 17   7  28 -14]\n",
            " [-13   3   5  15]]\n",
            "b) Định thức của M = 409.0\n",
            "c) Hạng của N = 4\n"
          ]
        }
      ]
    },
    {
      "cell_type": "code",
      "source": [
        "#câu 3:\n",
        "import numpy as np\n",
        "P = np.array([\n",
        "    [3, -1, 0, 2],\n",
        "    [1, 4, -2, 0],\n",
        "    [0, 1, 5, -1],\n",
        "    [2, 0, 1, 3]\n",
        "])\n",
        "\n",
        "b = np.array([6, 8, 3, 7])\n",
        "try:\n",
        "    P_inv = np.linalg.inv(P)\n",
        "    print(\"a) Ma trận nghịch đảo của P:\\n\", P_inv)\n",
        "except np.linalg.LinAlgError:\n",
        "    print(\"a) Ma trận P không khả nghịch!\")\n",
        "x = np.dot(P_inv, b)\n",
        "x = np.round(x, 3)\n",
        "print(\"b) Nghiệm của hệ phương trình:\\n\", x)\n",
        "check = np.dot(P, x)\n",
        "print(\"c) Kiểm tra lại nghiệm P · x:\\n\", check)\n",
        "print(\"   Vector ban đầu b:\\n\", b)"
      ],
      "metadata": {
        "colab": {
          "base_uri": "https://localhost:8080/"
        },
        "id": "pvKvkSMflstI",
        "outputId": "76d29bb9-25d7-42e2-81a6-59523c4d3b15"
      },
      "execution_count": 3,
      "outputs": [
        {
          "output_type": "stream",
          "name": "stdout",
          "text": [
            "a) Ma trận nghịch đảo của P:\n",
            " [[ 0.5         0.1         0.1        -0.3       ]\n",
            " [-0.14285714  0.2         0.05714286  0.11428571]\n",
            " [-0.03571429 -0.05        0.16428571  0.07857143]\n",
            " [-0.32142857 -0.05       -0.12142857  0.50714286]]\n",
            "b) Nghiệm của hệ phương trình:\n",
            " [2.    1.714 0.429 0.857]\n",
            "c) Kiểm tra lại nghiệm P · x:\n",
            " [6.    7.998 3.002 7.   ]\n",
            "   Vector ban đầu b:\n",
            " [6 8 3 7]\n"
          ]
        }
      ]
    },
    {
      "cell_type": "code",
      "source": [
        "#Câu 4:\n",
        "import numpy as np\n",
        "from numpy.linalg import eig, norm\n",
        "Q = np.array([\n",
        "    [5, -2, 1],\n",
        "    [0, 3, -1],\n",
        "    [2, 0, 4]\n",
        "])\n",
        "eigenvalues, eigenvectors = eig(Q)\n",
        "eigenvalues = np.round(eigenvalues, 3)\n",
        "print(\"a) Các giá trị riêng của Q:\", eigenvalues)\n",
        "print(\"b) Các vector riêng tương ứng:\")\n",
        "for i in range(len(eigenvalues)):\n",
        "    print(f\"   Giá trị riêng {eigenvalues[i]} ⇒ vector riêng:\")\n",
        "    print(np.round(eigenvectors[:, i], 3))\n",
        "print(\"c) Chuẩn hóa các vector riêng (độ dài = 1):\")\n",
        "for i in range(eigenvectors.shape[1]):\n",
        "    vec = eigenvectors[:, i]\n",
        "    vec_normalized = vec / norm(vec)\n",
        "    print(f\"   Vector chuẩn hóa {i+1}:\", np.round(vec_normalized, 3))"
      ],
      "metadata": {
        "colab": {
          "base_uri": "https://localhost:8080/"
        },
        "id": "RdWtUeJUmOX4",
        "outputId": "1c345549-8cc1-48c9-c050-fc89cd5af9cf"
      },
      "execution_count": 5,
      "outputs": [
        {
          "output_type": "stream",
          "name": "stdout",
          "text": [
            "a) Các giá trị riêng của Q: [6.355+0.j    2.822+1.077j 2.822-1.077j]\n",
            "b) Các vector riêng tương ứng:\n",
            "   Giá trị riêng (6.355+0j) ⇒ vector riêng:\n",
            "[ 0.748+0.j -0.189+0.j  0.636+0.j]\n",
            "   Giá trị riêng (2.822+1.077j) ⇒ vector riêng:\n",
            "[-0.374+0.342j  0.095+0.574j  0.636+0.j   ]\n",
            "   Giá trị riêng (2.822-1.077j) ⇒ vector riêng:\n",
            "[-0.374-0.342j  0.095-0.574j  0.636-0.j   ]\n",
            "c) Chuẩn hóa các vector riêng (độ dài = 1):\n",
            "   Vector chuẩn hóa 1: [ 0.748+0.j -0.189+0.j  0.636+0.j]\n",
            "   Vector chuẩn hóa 2: [-0.374+0.342j  0.095+0.574j  0.636+0.j   ]\n",
            "   Vector chuẩn hóa 3: [-0.374-0.342j  0.095-0.574j  0.636-0.j   ]\n"
          ]
        }
      ]
    },
    {
      "cell_type": "code",
      "source": [
        "#Câu 5:\n",
        "import numpy as np\n",
        "R = np.array([\n",
        "    [4, -1, 2],\n",
        "    [1, 3, -2],\n",
        "    [0, 2, 5]\n",
        "])\n",
        "b = np.array([12, 5, 9])\n",
        "x = np.linalg.solve(R, b)\n",
        "print(\"a) Nghiệm của hệ Rx = b là:\")\n",
        "print(np.round(x, 3))\n",
        "try:\n",
        "    R_inv = np.linalg.inv(R)\n",
        "    x_inv = np.dot(R_inv, b)\n",
        "    print(\"\\nb) Ma trận R khả nghịch.\")\n",
        "    print(\"   Nghiệm tìm bằng R⁻¹ * b là:\")\n",
        "    print(np.round(x_inv, 3))\n",
        "    print(\"   So sánh với np.linalg.solve:\", np.allclose(x, x_inv))\n",
        "except np.linalg.LinAlgError:\n",
        "    print(\"\\nb) Ma trận R không khả nghịch.\")\n",
        "fro_norm = np.linalg.norm(R, 'fro')\n",
        "print(\"\\nc) Chuẩn Frobenius của ma trận R là:\", round(fro_norm, 3))"
      ],
      "metadata": {
        "colab": {
          "base_uri": "https://localhost:8080/"
        },
        "id": "CDF8lCNtmzBF",
        "outputId": "06f102a6-af49-4a50-fd62-cbcacaf63ccd"
      },
      "execution_count": 9,
      "outputs": [
        {
          "output_type": "stream",
          "name": "stdout",
          "text": [
            "a) Nghiệm của hệ Rx = b là:\n",
            "[2.788 1.529 1.188]\n",
            "\n",
            "b) Ma trận R khả nghịch.\n",
            "   Nghiệm tìm bằng R⁻¹ * b là:\n",
            "[2.788 1.529 1.188]\n",
            "   So sánh với np.linalg.solve: True\n",
            "\n",
            "c) Chuẩn Frobenius của ma trận R là: 8.0\n"
          ]
        }
      ]
    }
  ]
}