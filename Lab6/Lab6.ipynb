{
  "nbformat": 4,
  "nbformat_minor": 0,
  "metadata": {
    "colab": {
      "provenance": []
    },
    "kernelspec": {
      "name": "python3",
      "display_name": "Python 3"
    },
    "language_info": {
      "name": "python"
    }
  },
  "cells": [
    {
      "cell_type": "markdown",
      "source": [
        "BÀI TẬP TRÊN LỚP"
      ],
      "metadata": {
        "id": "_LvFdBumhhRI"
      }
    },
    {
      "cell_type": "code",
      "execution_count": 1,
      "metadata": {
        "colab": {
          "base_uri": "https://localhost:8080/"
        },
        "id": "IcthxUaiagmO",
        "outputId": "a1ae85b6-5c22-4740-fa17-ba419b6339fa"
      },
      "outputs": [
        {
          "output_type": "stream",
          "name": "stdout",
          "text": [
            "32\n"
          ]
        }
      ],
      "source": [
        "import numpy as np\n",
        "a = np.array([1,2,3])\n",
        "b = np.array([4,5,6])\n",
        "tich = np.inner(a,b)\n",
        "print(tich)"
      ]
    },
    {
      "cell_type": "code",
      "source": [
        "print(np.dot(a,b))"
      ],
      "metadata": {
        "colab": {
          "base_uri": "https://localhost:8080/"
        },
        "id": "02UMheECa7Vo",
        "outputId": "a0e3736e-621a-4018-c717-ffc6a2275079"
      },
      "execution_count": 3,
      "outputs": [
        {
          "output_type": "stream",
          "name": "stdout",
          "text": [
            "32\n"
          ]
        }
      ]
    },
    {
      "cell_type": "code",
      "source": [
        "import numpy as np\n",
        "a = np.array([1,2,-3])\n",
        "print(np.linalg.norm(a))"
      ],
      "metadata": {
        "colab": {
          "base_uri": "https://localhost:8080/"
        },
        "id": "hrASnt03bFR_",
        "outputId": "dee8c901-b492-4989-f088-01b91d0044b4"
      },
      "execution_count": 5,
      "outputs": [
        {
          "output_type": "stream",
          "name": "stdout",
          "text": [
            "3.7416573867739413\n"
          ]
        }
      ]
    },
    {
      "cell_type": "code",
      "source": [
        "a = np.array([1,2,-3])\n",
        "print(np.linalg.norm(a,1))"
      ],
      "metadata": {
        "colab": {
          "base_uri": "https://localhost:8080/"
        },
        "id": "3HUz616fbRxv",
        "outputId": "b0685cf5-c89a-4ace-b79d-8dbcaae417a2"
      },
      "execution_count": 6,
      "outputs": [
        {
          "output_type": "stream",
          "name": "stdout",
          "text": [
            "6.0\n"
          ]
        }
      ]
    },
    {
      "cell_type": "code",
      "source": [
        "def chuan(v, k):\n",
        "    tong = 0\n",
        "    for i in range(len(v)):\n",
        "        tong = tong + abs(v[i]**k)\n",
        "    ketqua = math.pow(tong, 1.0/k)\n",
        "    return ketqua"
      ],
      "metadata": {
        "id": "gCnhxaM2bU35"
      },
      "execution_count": 7,
      "outputs": []
    },
    {
      "cell_type": "code",
      "source": [
        "import math\n",
        "import numpy as np\n",
        "a = np.array([1,2,-3])\n",
        "chuan(a, 1)"
      ],
      "metadata": {
        "colab": {
          "base_uri": "https://localhost:8080/"
        },
        "id": "DDJ2j8uAboqz",
        "outputId": "dfccc42d-67a3-4a7a-fa59-2d3bad99fba2"
      },
      "execution_count": 8,
      "outputs": [
        {
          "output_type": "execute_result",
          "data": {
            "text/plain": [
              "6.0"
            ]
          },
          "metadata": {},
          "execution_count": 8
        }
      ]
    },
    {
      "cell_type": "code",
      "source": [
        "print(np.linalg.norm(a,1))"
      ],
      "metadata": {
        "colab": {
          "base_uri": "https://localhost:8080/"
        },
        "id": "8uZVhWPBbqHG",
        "outputId": "d8b12238-2bee-4215-c2bb-c396f3aa5dd4"
      },
      "execution_count": 9,
      "outputs": [
        {
          "output_type": "stream",
          "name": "stdout",
          "text": [
            "6.0\n"
          ]
        }
      ]
    },
    {
      "cell_type": "code",
      "source": [
        "print(chuan(a, 2))"
      ],
      "metadata": {
        "colab": {
          "base_uri": "https://localhost:8080/"
        },
        "id": "FsE3rZ83btfZ",
        "outputId": "f5cee7ce-de74-4893-9d92-9be2aa1dc665"
      },
      "execution_count": 10,
      "outputs": [
        {
          "output_type": "stream",
          "name": "stdout",
          "text": [
            "3.7416573867739413\n"
          ]
        }
      ]
    },
    {
      "cell_type": "code",
      "source": [
        "print(np.linalg.norm(a,2))"
      ],
      "metadata": {
        "colab": {
          "base_uri": "https://localhost:8080/"
        },
        "id": "cQbv1H_zbw4a",
        "outputId": "3c92e4cf-3b33-430f-ce2b-7c44df292930"
      },
      "execution_count": 11,
      "outputs": [
        {
          "output_type": "stream",
          "name": "stdout",
          "text": [
            "3.7416573867739413\n"
          ]
        }
      ]
    },
    {
      "cell_type": "code",
      "source": [
        "print(chuan(a, 3))"
      ],
      "metadata": {
        "colab": {
          "base_uri": "https://localhost:8080/"
        },
        "id": "bbH2Y9hnbzun",
        "outputId": "4fbc7d10-d395-4828-ac8a-13cd9f69ab8d"
      },
      "execution_count": 12,
      "outputs": [
        {
          "output_type": "stream",
          "name": "stdout",
          "text": [
            "3.3019272488946263\n"
          ]
        }
      ]
    },
    {
      "cell_type": "code",
      "source": [
        "print(np.linalg.norm(a,3))"
      ],
      "metadata": {
        "colab": {
          "base_uri": "https://localhost:8080/"
        },
        "id": "6e-tq_DNb3zN",
        "outputId": "fb313dd5-f216-4c8d-9a98-7e7fe4b1c85e"
      },
      "execution_count": 13,
      "outputs": [
        {
          "output_type": "stream",
          "name": "stdout",
          "text": [
            "3.3019272488946263\n"
          ]
        }
      ]
    },
    {
      "cell_type": "code",
      "source": [
        "print(chuan(a, 1000))"
      ],
      "metadata": {
        "colab": {
          "base_uri": "https://localhost:8080/"
        },
        "id": "Iu-z-dmkb5Ez",
        "outputId": "e84cee53-7d6a-4e9d-ef49-72e849f0ed7e"
      },
      "execution_count": 14,
      "outputs": [
        {
          "output_type": "stream",
          "name": "stdout",
          "text": [
            "1.0442214818467515\n"
          ]
        }
      ]
    },
    {
      "cell_type": "code",
      "source": [
        "print(np.linalg.norm(a,1000))"
      ],
      "metadata": {
        "colab": {
          "base_uri": "https://localhost:8080/"
        },
        "id": "470yHIsRb5hy",
        "outputId": "6b5e9612-1276-4da3-b338-d089e1b3e018"
      },
      "execution_count": 15,
      "outputs": [
        {
          "output_type": "stream",
          "name": "stdout",
          "text": [
            "inf\n"
          ]
        },
        {
          "output_type": "stream",
          "name": "stderr",
          "text": [
            "/usr/local/lib/python3.11/dist-packages/numpy/linalg/_linalg.py:2780: RuntimeWarning: overflow encountered in power\n",
            "  absx **= ord\n"
          ]
        }
      ]
    },
    {
      "cell_type": "code",
      "source": [
        "from scipy import linalg\n",
        "print(linalg.norm(a))"
      ],
      "metadata": {
        "colab": {
          "base_uri": "https://localhost:8080/"
        },
        "id": "UAk53ZAhb5yz",
        "outputId": "9c155243-4b5b-493f-bb86-0ccc4cae65d0"
      },
      "execution_count": 17,
      "outputs": [
        {
          "output_type": "stream",
          "name": "stdout",
          "text": [
            "3.7416573867739413\n"
          ]
        }
      ]
    },
    {
      "cell_type": "code",
      "source": [
        "print(linalg.norm(a, 100))"
      ],
      "metadata": {
        "colab": {
          "base_uri": "https://localhost:8080/"
        },
        "id": "4Us63pAzcVuK",
        "outputId": "185afbc1-2f6e-4ac2-850c-8052b4e87475"
      },
      "execution_count": 18,
      "outputs": [
        {
          "output_type": "stream",
          "name": "stdout",
          "text": [
            "3.0\n"
          ]
        }
      ]
    },
    {
      "cell_type": "code",
      "source": [
        "print(linalg.norm(a, 1000))"
      ],
      "metadata": {
        "colab": {
          "base_uri": "https://localhost:8080/"
        },
        "id": "_h6zcUq5cZkH",
        "outputId": "738643ce-5930-412d-bc7f-a899e04ca5f4"
      },
      "execution_count": 19,
      "outputs": [
        {
          "output_type": "stream",
          "name": "stdout",
          "text": [
            "inf\n"
          ]
        },
        {
          "output_type": "stream",
          "name": "stderr",
          "text": [
            "/usr/local/lib/python3.11/dist-packages/numpy/linalg/_linalg.py:2780: RuntimeWarning: overflow encountered in power\n",
            "  absx **= ord\n"
          ]
        }
      ]
    },
    {
      "cell_type": "code",
      "source": [
        "import numpy as np\n",
        "m = 10\n",
        "v1 = np.array([5,-4,3])\n",
        "v2 = np.array([4,3,-2])\n",
        "v3 = np.array([-4,-3,-1])\n",
        "v4 = np.array([-9,8,6])\n",
        "mi = np.array([2,5,2,1])\n",
        "M = np.array([v1,v2,v3,v4])\n",
        "MT = M.transpose()\n",
        "print(MT)"
      ],
      "metadata": {
        "colab": {
          "base_uri": "https://localhost:8080/"
        },
        "id": "BuocuhMHcbCh",
        "outputId": "99c87d9f-9ec4-49db-f34b-93bfbc8ea6ca"
      },
      "execution_count": 20,
      "outputs": [
        {
          "output_type": "stream",
          "name": "stdout",
          "text": [
            "[[ 5  4 -4 -9]\n",
            " [-4  3 -3  8]\n",
            " [ 3 -2 -1  6]]\n"
          ]
        }
      ]
    },
    {
      "cell_type": "code",
      "source": [
        "v = (1.0/m)*MT.dot(mi)\n",
        "print (v)"
      ],
      "metadata": {
        "colab": {
          "base_uri": "https://localhost:8080/"
        },
        "id": "5MjBLsrQciaV",
        "outputId": "12c2dec2-dd96-4544-809a-ffe8679dceae"
      },
      "execution_count": 22,
      "outputs": [
        {
          "output_type": "stream",
          "name": "stdout",
          "text": [
            "[1.3 0.9 0. ]\n"
          ]
        }
      ]
    },
    {
      "cell_type": "code",
      "source": [
        "import numpy as np\n",
        "A = np.array([[0.998, 0.136],\n",
        "              [0.002, 0.864]])\n",
        "v0 = np.array([0.95, 0.05])\n",
        "vt = np.linalg.matrix_power(A, 100).dot(v0)\n",
        "print(vt)"
      ],
      "metadata": {
        "colab": {
          "base_uri": "https://localhost:8080/"
        },
        "id": "w_F45r5ZcnH-",
        "outputId": "a1000983-0bdc-403b-ab2a-11f9588845f6"
      },
      "execution_count": 23,
      "outputs": [
        {
          "output_type": "stream",
          "name": "stdout",
          "text": [
            "[0.98550723 0.01449277]\n"
          ]
        }
      ]
    },
    {
      "cell_type": "code",
      "source": [
        "import numpy as np\n",
        "A = np.array([[0.998, 0.136],\n",
        "              [-0.002, 0.864]])\n",
        "A_100 = np.eye(2)\n",
        "for _ in range(100):\n",
        "    A_100 = np.dot(A_100, A)\n",
        "v0 = np.array([[0.95],\n",
        "               [0.05]])\n",
        "v100 = np.dot(A_100, v0)\n",
        "print(\"Ma trận A^100:\")\n",
        "print(A_100)\n",
        "print(\"Vector trạng thái sau 100 tuần:\")\n",
        "print(v100)"
      ],
      "metadata": {
        "colab": {
          "base_uri": "https://localhost:8080/"
        },
        "id": "qC5kzibCc2ua",
        "outputId": "e533a01d-dff0-4c8b-c5c0-3dd428139125"
      },
      "execution_count": 24,
      "outputs": [
        {
          "output_type": "stream",
          "name": "stdout",
          "text": [
            "Ma trận A^100:\n",
            "[[ 0.67622106  0.69703713]\n",
            " [-0.01025055 -0.01056553]]\n",
            "Vector trạng thái sau 100 tuần:\n",
            "[[ 0.67726186]\n",
            " [-0.0102663 ]]\n"
          ]
        }
      ]
    },
    {
      "cell_type": "code",
      "source": [
        "import numpy as np\n",
        "A = np.array([[1, -68],\n",
        "              [1, 1]])\n",
        "b = np.array([0, 1])\n",
        "solution = np.linalg.solve(A, b)\n",
        "print(\"Nghiệm của hệ phương trình là:\")\n",
        "print(f\"x = {solution[0]}\")\n",
        "print(f\"y = {solution[1]}\")"
      ],
      "metadata": {
        "colab": {
          "base_uri": "https://localhost:8080/"
        },
        "id": "h1hLVGJTeimv",
        "outputId": "4ffb6834-0b56-494f-fd2f-dbb3e76a2885"
      },
      "execution_count": 25,
      "outputs": [
        {
          "output_type": "stream",
          "name": "stdout",
          "text": [
            "Nghiệm của hệ phương trình là:\n",
            "x = 0.9855072463768116\n",
            "y = 0.014492753623188406\n"
          ]
        }
      ]
    },
    {
      "cell_type": "code",
      "source": [
        "import sympy as sym\n",
        "x, y = sym.symbols('x y')\n",
        "xy = sym.Matrix([x,y])\n",
        "A = sym.Matrix([[1, -68],[1,1]])\n",
        "v = sym.Matrix([0, 1])\n",
        "nghiem = sym.solve([A*xy-v])\n",
        "print(sym.pretty(nghiem))"
      ],
      "metadata": {
        "colab": {
          "base_uri": "https://localhost:8080/"
        },
        "id": "Jg3RI-qke0y1",
        "outputId": "200fe9d7-0de6-42b2-cd81-d9ddbc9d4bdf"
      },
      "execution_count": 26,
      "outputs": [
        {
          "output_type": "stream",
          "name": "stdout",
          "text": [
            "⎧   68         ⎫\n",
            "⎨x: ──, y: 1/69⎬\n",
            "⎩   69         ⎭\n"
          ]
        }
      ]
    },
    {
      "cell_type": "code",
      "source": [
        "import numpy as np\n",
        "A = np.array([[1, 6],\n",
        "              [5, 2]])\n",
        "u = np.array([[6],\n",
        "              [-5]])\n",
        "Au = A @ u\n",
        "result = -4 * u\n",
        "print(\"Au =\\n\", Au)\n",
        "print(\"-4 * u =\\n\", result)\n",
        "print(\"Hai vector có bằng nhau không? =>\", np.allclose(Au, result))\n"
      ],
      "metadata": {
        "colab": {
          "base_uri": "https://localhost:8080/"
        },
        "id": "hq9O6O6ae8qJ",
        "outputId": "03e07a28-41a8-48d2-dcd2-0c9e4da8e55c"
      },
      "execution_count": 27,
      "outputs": [
        {
          "output_type": "stream",
          "name": "stdout",
          "text": [
            "Au =\n",
            " [[-24]\n",
            " [ 20]]\n",
            "-4 * u =\n",
            " [[-24]\n",
            " [ 20]]\n",
            "Hai vector có bằng nhau không? => True\n"
          ]
        }
      ]
    },
    {
      "cell_type": "code",
      "source": [
        "import sympy\n",
        "x, y, Lambda = sympy.symbols('x y Lambda')\n",
        "I = sympy.eye(2)\n",
        "A = sympy.Matrix([[2,3],[3,-6]])\n",
        "phuongtrinh = sympy.Eq(sympy.det(Lambda*I - A), 0)\n",
        "nghiem = sympy.solve(phuongtrinh)\n",
        "print([sympy.N(phantu,4) for phantu in nghiem])"
      ],
      "metadata": {
        "colab": {
          "base_uri": "https://localhost:8080/"
        },
        "id": "RUH6Yjemf1J5",
        "outputId": "d56e57ba-123b-43f6-a8de-0c32fc88e87b"
      },
      "execution_count": 28,
      "outputs": [
        {
          "output_type": "stream",
          "name": "stdout",
          "text": [
            "[-7.000, 3.000]\n"
          ]
        }
      ]
    },
    {
      "cell_type": "code",
      "source": [
        "print (sympy.pretty(nghiem))"
      ],
      "metadata": {
        "colab": {
          "base_uri": "https://localhost:8080/"
        },
        "id": "blC2a_fegA1t",
        "outputId": "634e9b4e-9e4e-47d9-e844-e9501bfb0452"
      },
      "execution_count": 29,
      "outputs": [
        {
          "output_type": "stream",
          "name": "stdout",
          "text": [
            "[-7, 3]\n"
          ]
        }
      ]
    },
    {
      "cell_type": "code",
      "source": [
        "import sympy as sp\n",
        "x, y = sp.symbols('x y')\n",
        "vec = sp.Matrix([x, y])\n",
        "A = sp.Matrix([[2, 3],\n",
        "               [3, -6]])\n",
        "lambda_val = 3\n",
        "I = sp.eye(2)\n",
        "eig_matrix = A - lambda_val * I\n",
        "phuongtrinh = eig_matrix * vec\n",
        "nghiem = sp.solve(phuongtrinh, (x, y), dict=True)\n",
        "print(nghiem)"
      ],
      "metadata": {
        "colab": {
          "base_uri": "https://localhost:8080/"
        },
        "id": "1zg7s8wggC94",
        "outputId": "90d48f7d-6e3a-42a5-a648-980df4e75edf"
      },
      "execution_count": 30,
      "outputs": [
        {
          "output_type": "stream",
          "name": "stdout",
          "text": [
            "[{x: 3*y}]\n"
          ]
        }
      ]
    },
    {
      "cell_type": "code",
      "source": [
        "import numpy as np\n",
        "A = np.array([[2,3],[3,-6]])\n",
        "D = np.array([[-7,0],[0,3]])\n",
        "P = np.array([[-1.0/3, 3],[1,1]])\n",
        "from numpy import linalg\n",
        "from numpy import linalg as LA\n",
        "P1 = LA.inv(P)\n",
        "print (P1)"
      ],
      "metadata": {
        "colab": {
          "base_uri": "https://localhost:8080/"
        },
        "id": "MitKmWT6gSTW",
        "outputId": "d0fff3a4-4340-49c9-a750-7bfc44c1c591"
      },
      "execution_count": 31,
      "outputs": [
        {
          "output_type": "stream",
          "name": "stdout",
          "text": [
            "[[-0.3  0.9]\n",
            " [ 0.3  0.1]]\n"
          ]
        }
      ]
    },
    {
      "cell_type": "code",
      "source": [
        "print(P1**-1)"
      ],
      "metadata": {
        "colab": {
          "base_uri": "https://localhost:8080/"
        },
        "id": "QE0sWeHrgiDY",
        "outputId": "3c0a3b14-7866-461e-97d1-659d62c9726c"
      },
      "execution_count": 33,
      "outputs": [
        {
          "output_type": "stream",
          "name": "stdout",
          "text": [
            "[[-3.33333333  1.11111111]\n",
            " [ 3.33333333 10.        ]]\n"
          ]
        }
      ]
    },
    {
      "cell_type": "code",
      "source": [
        "print(A.dot(P))"
      ],
      "metadata": {
        "colab": {
          "base_uri": "https://localhost:8080/"
        },
        "id": "v7JHQWsqgmt6",
        "outputId": "a6031293-6737-4416-a2bd-5c71f1ce9e69"
      },
      "execution_count": 35,
      "outputs": [
        {
          "output_type": "stream",
          "name": "stdout",
          "text": [
            "[[ 2.33333333  9.        ]\n",
            " [-7.          3.        ]]\n"
          ]
        }
      ]
    },
    {
      "cell_type": "code",
      "source": [
        "print(P.dot(D))"
      ],
      "metadata": {
        "colab": {
          "base_uri": "https://localhost:8080/"
        },
        "id": "zQCZD9oXgrus",
        "outputId": "19cf12d9-ee46-4a97-b5de-7a604dfe48f2"
      },
      "execution_count": 37,
      "outputs": [
        {
          "output_type": "stream",
          "name": "stdout",
          "text": [
            "[[ 2.33333333  9.        ]\n",
            " [-7.          3.        ]]\n"
          ]
        }
      ]
    },
    {
      "cell_type": "code",
      "source": [
        "P @ (D ** 1000) @ P1"
      ],
      "metadata": {
        "colab": {
          "base_uri": "https://localhost:8080/"
        },
        "id": "OEjtja0KgxwZ",
        "outputId": "768250a8-5339-436d-df14-2394d47b1d46"
      },
      "execution_count": 38,
      "outputs": [
        {
          "output_type": "execute_result",
          "data": {
            "text/plain": [
              "array([[ 5.03503397e+18,  3.50482117e+18],\n",
              "       [ 3.50482117e+18, -4.31115581e+18]])"
            ]
          },
          "metadata": {},
          "execution_count": 38
        }
      ]
    },
    {
      "cell_type": "code",
      "source": [
        "print (D **2)"
      ],
      "metadata": {
        "colab": {
          "base_uri": "https://localhost:8080/"
        },
        "id": "_HPrdpBVg11b",
        "outputId": "ac216e32-ae56-4ce2-9304-d7de81639a19"
      },
      "execution_count": 39,
      "outputs": [
        {
          "output_type": "stream",
          "name": "stdout",
          "text": [
            "[[49  0]\n",
            " [ 0  9]]\n"
          ]
        }
      ]
    },
    {
      "cell_type": "markdown",
      "source": [
        "BÀI TẬP VỀ NHÀ"
      ],
      "metadata": {
        "id": "Q1c5ML2XhAo0"
      }
    },
    {
      "cell_type": "code",
      "source": [
        "Câu 1: [Trắc nghiệm] Trong Python 3, các câu lệnh sau đây, câu lệnh nào tính chuẩn 2 của\n",
        "vector a. Với a được xác định là:\n",
        ">>> import numpy as np\n",
        ">>> a = np.array([1,2,3])\n",
        "a. >>> mag = np.sqrt(a.dot(a))\n",
        "b. >>> mag = np.sqrt(a @ a )\n",
        "c. >>> mag = np.sqrt(np.inner(a,a))\n",
        "d. >>> mag = lambda x : math.sqrt(sum(i** 2 for i in x))\n",
        ">>> mag(a)\n",
        "\n",
        "###tôi chọn đáp án a"
      ],
      "metadata": {
        "id": "RC0ItN0OhDW-"
      },
      "execution_count": null,
      "outputs": []
    },
    {
      "cell_type": "code",
      "source": [
        "#a\n",
        "import numpy as np\n",
        "u = np.array([1, 2])\n",
        "v = np.array([3, 4])\n",
        "khoang_cach = np.linalg.norm(u - v)\n",
        "print(\"Khoảng cách giữa u và v là:\", khoang_cach)"
      ],
      "metadata": {
        "colab": {
          "base_uri": "https://localhost:8080/"
        },
        "id": "VUN_hXBKhKV8",
        "outputId": "a529f55e-80a3-4f5f-cffb-63ebed683b24"
      },
      "execution_count": 40,
      "outputs": [
        {
          "output_type": "stream",
          "name": "stdout",
          "text": [
            "Khoảng cách giữa u và v là: 2.8284271247461903\n"
          ]
        }
      ]
    },
    {
      "cell_type": "code",
      "source": [
        "#b\n",
        "tich_vo_huong = np.dot(u, v)\n",
        "norm_u = np.linalg.norm(u)\n",
        "norm_v = np.linalg.norm(v)\n",
        "cos_theta = tich_vo_huong / (norm_u * norm_v)\n",
        "theta = np.arccos(cos_theta)\n",
        "theta_do = np.degrees(theta)\n",
        "print(\"Góc giữa u và v (radian):\", theta)\n",
        "print(\"Góc giữa u và v (độ):\", theta_do)"
      ],
      "metadata": {
        "colab": {
          "base_uri": "https://localhost:8080/"
        },
        "id": "UawIgNl8hUJP",
        "outputId": "fbbcc86d-2fa9-4c88-ba41-c4ce1cc4e450"
      },
      "execution_count": 41,
      "outputs": [
        {
          "output_type": "stream",
          "name": "stdout",
          "text": [
            "Góc giữa u và v (radian): 0.17985349979247847\n",
            "Góc giữa u và v (độ): 10.304846468766044\n"
          ]
        }
      ]
    },
    {
      "cell_type": "code",
      "source": [
        "#c\n",
        "phep_chieu = (np.dot(u, v) / np.dot(v, v)) * v\n",
        "print(\"Phép chiếu của u lên v là:\", phep_chieu)"
      ],
      "metadata": {
        "colab": {
          "base_uri": "https://localhost:8080/"
        },
        "id": "TcwMhrrPhYmP",
        "outputId": "c56e8552-54d2-4e1f-d9b4-8e85e471c7cd"
      },
      "execution_count": 42,
      "outputs": [
        {
          "output_type": "stream",
          "name": "stdout",
          "text": [
            "Phép chiếu của u lên v là: [1.32 1.76]\n"
          ]
        }
      ]
    }
  ]
}