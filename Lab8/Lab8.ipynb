{
  "nbformat": 4,
  "nbformat_minor": 0,
  "metadata": {
    "colab": {
      "provenance": []
    },
    "kernelspec": {
      "name": "python3",
      "display_name": "Python 3"
    },
    "language_info": {
      "name": "python"
    }
  },
  "cells": [
    {
      "cell_type": "markdown",
      "source": [
        "BÀI TẬP TRÊN LỚP"
      ],
      "metadata": {
        "id": "z3OR0GnFjnVQ"
      }
    },
    {
      "cell_type": "code",
      "source": [
        "#1.2.Các bài toán tính toán\n",
        "import numpy as np\n",
        "u = np.array([2, -1, 5, 0])\n",
        "v = np.array([4, 3, 1, -1])\n",
        "w = np.array([-6, 2, 0, 3])\n",
        "x = 2*u - (v + 3*w)\n",
        "print(x)"
      ],
      "metadata": {
        "colab": {
          "base_uri": "https://localhost:8080/"
        },
        "id": "A8n4-mAmjquu",
        "outputId": "f6f8c282-09d2-4d14-85c9-30e142b674a6"
      },
      "execution_count": 1,
      "outputs": [
        {
          "output_type": "stream",
          "name": "stdout",
          "text": [
            "[ 18 -11   9  -8]\n"
          ]
        }
      ]
    },
    {
      "cell_type": "code",
      "source": [
        "x = 0.5*(2*u-v-3*w)\n",
        "print (x)"
      ],
      "metadata": {
        "colab": {
          "base_uri": "https://localhost:8080/"
        },
        "id": "uNeupgF-kn5h",
        "outputId": "f452a5bf-1354-4b65-df49-60a5ceed0d24"
      },
      "execution_count": 2,
      "outputs": [
        {
          "output_type": "stream",
          "name": "stdout",
          "text": [
            "[ 9.  -5.5  4.5 -4. ]\n"
          ]
        }
      ]
    },
    {
      "cell_type": "code",
      "source": [
        "from numpy import linalg\n",
        "A = np.matrix([[0, -1, 3], [1, 1, 1], [4, 2, 2]])\n",
        "B = np.array([-1, -2, -2])\n",
        "X = np.linalg.solve(A, B)\n",
        "print(X)"
      ],
      "metadata": {
        "colab": {
          "base_uri": "https://localhost:8080/"
        },
        "id": "Vs-QSpgnkrRs",
        "outputId": "3a7f1c7b-5dea-482e-a73e-882abda2b3d3"
      },
      "execution_count": 3,
      "outputs": [
        {
          "output_type": "stream",
          "name": "stdout",
          "text": [
            "[ 1. -2. -1.]\n"
          ]
        }
      ]
    },
    {
      "cell_type": "code",
      "source": [
        "A = np.matrix([[1, 0],[0, 0]])\n",
        "B = np.matrix([[0, 0], [0, 1]])\n",
        "from numpy import linalg as LA"
      ],
      "metadata": {
        "id": "VbqraVUwk0kC"
      },
      "execution_count": 7,
      "outputs": []
    },
    {
      "cell_type": "code",
      "source": [
        "LA.inv(A)"
      ],
      "metadata": {
        "colab": {
          "base_uri": "https://localhost:8080/",
          "height": 297
        },
        "id": "czURDTbyk6mO",
        "outputId": "e5170dc7-1aba-47d3-a67f-064ed4ccf906"
      },
      "execution_count": 10,
      "outputs": [
        {
          "output_type": "error",
          "ename": "LinAlgError",
          "evalue": "Singular matrix",
          "traceback": [
            "\u001b[0;31m---------------------------------------------------------------------------\u001b[0m",
            "\u001b[0;31mLinAlgError\u001b[0m                               Traceback (most recent call last)",
            "\u001b[0;32m/tmp/ipython-input-10-3452915440.py\u001b[0m in \u001b[0;36m<cell line: 0>\u001b[0;34m()\u001b[0m\n\u001b[0;32m----> 1\u001b[0;31m \u001b[0mLA\u001b[0m\u001b[0;34m.\u001b[0m\u001b[0minv\u001b[0m\u001b[0;34m(\u001b[0m\u001b[0mA\u001b[0m\u001b[0;34m)\u001b[0m\u001b[0;34m\u001b[0m\u001b[0;34m\u001b[0m\u001b[0m\n\u001b[0m",
            "\u001b[0;32m/usr/local/lib/python3.11/dist-packages/numpy/linalg/_linalg.py\u001b[0m in \u001b[0;36minv\u001b[0;34m(a)\u001b[0m\n\u001b[1;32m    606\u001b[0m     with errstate(call=_raise_linalgerror_singular, invalid='call',\n\u001b[1;32m    607\u001b[0m                   over='ignore', divide='ignore', under='ignore'):\n\u001b[0;32m--> 608\u001b[0;31m         \u001b[0mainv\u001b[0m \u001b[0;34m=\u001b[0m \u001b[0m_umath_linalg\u001b[0m\u001b[0;34m.\u001b[0m\u001b[0minv\u001b[0m\u001b[0;34m(\u001b[0m\u001b[0ma\u001b[0m\u001b[0;34m,\u001b[0m \u001b[0msignature\u001b[0m\u001b[0;34m=\u001b[0m\u001b[0msignature\u001b[0m\u001b[0;34m)\u001b[0m\u001b[0;34m\u001b[0m\u001b[0;34m\u001b[0m\u001b[0m\n\u001b[0m\u001b[1;32m    609\u001b[0m     \u001b[0;32mreturn\u001b[0m \u001b[0mwrap\u001b[0m\u001b[0;34m(\u001b[0m\u001b[0mainv\u001b[0m\u001b[0;34m.\u001b[0m\u001b[0mastype\u001b[0m\u001b[0;34m(\u001b[0m\u001b[0mresult_t\u001b[0m\u001b[0;34m,\u001b[0m \u001b[0mcopy\u001b[0m\u001b[0;34m=\u001b[0m\u001b[0;32mFalse\u001b[0m\u001b[0;34m)\u001b[0m\u001b[0;34m)\u001b[0m\u001b[0;34m\u001b[0m\u001b[0;34m\u001b[0m\u001b[0m\n\u001b[1;32m    610\u001b[0m \u001b[0;34m\u001b[0m\u001b[0m\n",
            "\u001b[0;32m/usr/local/lib/python3.11/dist-packages/numpy/linalg/_linalg.py\u001b[0m in \u001b[0;36m_raise_linalgerror_singular\u001b[0;34m(err, flag)\u001b[0m\n\u001b[1;32m    102\u001b[0m \u001b[0;34m\u001b[0m\u001b[0m\n\u001b[1;32m    103\u001b[0m \u001b[0;32mdef\u001b[0m \u001b[0m_raise_linalgerror_singular\u001b[0m\u001b[0;34m(\u001b[0m\u001b[0merr\u001b[0m\u001b[0;34m,\u001b[0m \u001b[0mflag\u001b[0m\u001b[0;34m)\u001b[0m\u001b[0;34m:\u001b[0m\u001b[0;34m\u001b[0m\u001b[0;34m\u001b[0m\u001b[0m\n\u001b[0;32m--> 104\u001b[0;31m     \u001b[0;32mraise\u001b[0m \u001b[0mLinAlgError\u001b[0m\u001b[0;34m(\u001b[0m\u001b[0;34m\"Singular matrix\"\u001b[0m\u001b[0;34m)\u001b[0m\u001b[0;34m\u001b[0m\u001b[0;34m\u001b[0m\u001b[0m\n\u001b[0m\u001b[1;32m    105\u001b[0m \u001b[0;34m\u001b[0m\u001b[0m\n\u001b[1;32m    106\u001b[0m \u001b[0;32mdef\u001b[0m \u001b[0m_raise_linalgerror_nonposdef\u001b[0m\u001b[0;34m(\u001b[0m\u001b[0merr\u001b[0m\u001b[0;34m,\u001b[0m \u001b[0mflag\u001b[0m\u001b[0;34m)\u001b[0m\u001b[0;34m:\u001b[0m\u001b[0;34m\u001b[0m\u001b[0;34m\u001b[0m\u001b[0m\n",
            "\u001b[0;31mLinAlgError\u001b[0m: Singular matrix"
          ]
        }
      ]
    },
    {
      "cell_type": "code",
      "source": [
        "LA.inv(B)"
      ],
      "metadata": {
        "colab": {
          "base_uri": "https://localhost:8080/",
          "height": 297
        },
        "id": "cVUVduRLlkVn",
        "outputId": "92e73463-6895-4fef-9019-2579565f18d0"
      },
      "execution_count": 11,
      "outputs": [
        {
          "output_type": "error",
          "ename": "LinAlgError",
          "evalue": "Singular matrix",
          "traceback": [
            "\u001b[0;31m---------------------------------------------------------------------------\u001b[0m",
            "\u001b[0;31mLinAlgError\u001b[0m                               Traceback (most recent call last)",
            "\u001b[0;32m/tmp/ipython-input-11-730853034.py\u001b[0m in \u001b[0;36m<cell line: 0>\u001b[0;34m()\u001b[0m\n\u001b[0;32m----> 1\u001b[0;31m \u001b[0mLA\u001b[0m\u001b[0;34m.\u001b[0m\u001b[0minv\u001b[0m\u001b[0;34m(\u001b[0m\u001b[0mB\u001b[0m\u001b[0;34m)\u001b[0m\u001b[0;34m\u001b[0m\u001b[0;34m\u001b[0m\u001b[0m\n\u001b[0m",
            "\u001b[0;32m/usr/local/lib/python3.11/dist-packages/numpy/linalg/_linalg.py\u001b[0m in \u001b[0;36minv\u001b[0;34m(a)\u001b[0m\n\u001b[1;32m    606\u001b[0m     with errstate(call=_raise_linalgerror_singular, invalid='call',\n\u001b[1;32m    607\u001b[0m                   over='ignore', divide='ignore', under='ignore'):\n\u001b[0;32m--> 608\u001b[0;31m         \u001b[0mainv\u001b[0m \u001b[0;34m=\u001b[0m \u001b[0m_umath_linalg\u001b[0m\u001b[0;34m.\u001b[0m\u001b[0minv\u001b[0m\u001b[0;34m(\u001b[0m\u001b[0ma\u001b[0m\u001b[0;34m,\u001b[0m \u001b[0msignature\u001b[0m\u001b[0;34m=\u001b[0m\u001b[0msignature\u001b[0m\u001b[0;34m)\u001b[0m\u001b[0;34m\u001b[0m\u001b[0;34m\u001b[0m\u001b[0m\n\u001b[0m\u001b[1;32m    609\u001b[0m     \u001b[0;32mreturn\u001b[0m \u001b[0mwrap\u001b[0m\u001b[0;34m(\u001b[0m\u001b[0mainv\u001b[0m\u001b[0;34m.\u001b[0m\u001b[0mastype\u001b[0m\u001b[0;34m(\u001b[0m\u001b[0mresult_t\u001b[0m\u001b[0;34m,\u001b[0m \u001b[0mcopy\u001b[0m\u001b[0;34m=\u001b[0m\u001b[0;32mFalse\u001b[0m\u001b[0;34m)\u001b[0m\u001b[0;34m)\u001b[0m\u001b[0;34m\u001b[0m\u001b[0;34m\u001b[0m\u001b[0m\n\u001b[1;32m    610\u001b[0m \u001b[0;34m\u001b[0m\u001b[0m\n",
            "\u001b[0;32m/usr/local/lib/python3.11/dist-packages/numpy/linalg/_linalg.py\u001b[0m in \u001b[0;36m_raise_linalgerror_singular\u001b[0;34m(err, flag)\u001b[0m\n\u001b[1;32m    102\u001b[0m \u001b[0;34m\u001b[0m\u001b[0m\n\u001b[1;32m    103\u001b[0m \u001b[0;32mdef\u001b[0m \u001b[0m_raise_linalgerror_singular\u001b[0m\u001b[0;34m(\u001b[0m\u001b[0merr\u001b[0m\u001b[0;34m,\u001b[0m \u001b[0mflag\u001b[0m\u001b[0;34m)\u001b[0m\u001b[0;34m:\u001b[0m\u001b[0;34m\u001b[0m\u001b[0;34m\u001b[0m\u001b[0m\n\u001b[0;32m--> 104\u001b[0;31m     \u001b[0;32mraise\u001b[0m \u001b[0mLinAlgError\u001b[0m\u001b[0;34m(\u001b[0m\u001b[0;34m\"Singular matrix\"\u001b[0m\u001b[0;34m)\u001b[0m\u001b[0;34m\u001b[0m\u001b[0;34m\u001b[0m\u001b[0m\n\u001b[0m\u001b[1;32m    105\u001b[0m \u001b[0;34m\u001b[0m\u001b[0m\n\u001b[1;32m    106\u001b[0m \u001b[0;32mdef\u001b[0m \u001b[0m_raise_linalgerror_nonposdef\u001b[0m\u001b[0;34m(\u001b[0m\u001b[0merr\u001b[0m\u001b[0;34m,\u001b[0m \u001b[0mflag\u001b[0m\u001b[0;34m)\u001b[0m\u001b[0;34m:\u001b[0m\u001b[0;34m\u001b[0m\u001b[0;34m\u001b[0m\u001b[0m\n",
            "\u001b[0;31mLinAlgError\u001b[0m: Singular matrix"
          ]
        }
      ]
    },
    {
      "cell_type": "code",
      "source": [
        "LA.inv(A+B)"
      ],
      "metadata": {
        "colab": {
          "base_uri": "https://localhost:8080/"
        },
        "id": "p2EmMrRtlmlx",
        "outputId": "5f85b89e-4d5f-4863-fb41-c3cf3ff97cda"
      },
      "execution_count": 12,
      "outputs": [
        {
          "output_type": "execute_result",
          "data": {
            "text/plain": [
              "matrix([[1., 0.],\n",
              "        [0., 1.]])"
            ]
          },
          "metadata": {},
          "execution_count": 12
        }
      ]
    },
    {
      "cell_type": "code",
      "source": [
        "LA.det(A)"
      ],
      "metadata": {
        "colab": {
          "base_uri": "https://localhost:8080/"
        },
        "id": "W8ZeHRqIlouO",
        "outputId": "fe97fe4d-3ace-4f6f-9cfe-b7ae2890fd75"
      },
      "execution_count": 13,
      "outputs": [
        {
          "output_type": "execute_result",
          "data": {
            "text/plain": [
              "np.float64(0.0)"
            ]
          },
          "metadata": {},
          "execution_count": 13
        }
      ]
    },
    {
      "cell_type": "code",
      "source": [
        "LA.det(B)"
      ],
      "metadata": {
        "colab": {
          "base_uri": "https://localhost:8080/"
        },
        "id": "hT1s2V_plr8E",
        "outputId": "81de0d2d-ae43-4c4b-af05-ba7236f2ff39"
      },
      "execution_count": 14,
      "outputs": [
        {
          "output_type": "execute_result",
          "data": {
            "text/plain": [
              "np.float64(0.0)"
            ]
          },
          "metadata": {},
          "execution_count": 14
        }
      ]
    },
    {
      "cell_type": "code",
      "source": [
        "LA.det(A + B)"
      ],
      "metadata": {
        "colab": {
          "base_uri": "https://localhost:8080/"
        },
        "id": "WpqjYCy-lvIb",
        "outputId": "987a1c6b-fb81-4154-c2b6-0f3f3bdc79b3"
      },
      "execution_count": 15,
      "outputs": [
        {
          "output_type": "execute_result",
          "data": {
            "text/plain": [
              "np.float64(1.0)"
            ]
          },
          "metadata": {},
          "execution_count": 15
        }
      ]
    },
    {
      "cell_type": "code",
      "source": [
        "import sympy as sp\n",
        "x, y = sp.symbols('x y')\n",
        "A = sp.Matrix([[x, y], [y, x]])\n",
        "x1, y1 = sp.symbols('x1 y1')\n",
        "A1 = sp.Matrix([[x1, y1], [y1, x1]])\n",
        "x2, y2 = sp.symbols('x2 y2')\n",
        "A2 = sp.Matrix([[x2, y2], [y2, x2]])\n",
        "A1.T"
      ],
      "metadata": {
        "colab": {
          "base_uri": "https://localhost:8080/",
          "height": 58
        },
        "id": "WWBzMem_lzNh",
        "outputId": "35b7ad10-b6d4-4704-ce82-c30e5893ae34"
      },
      "execution_count": 16,
      "outputs": [
        {
          "output_type": "execute_result",
          "data": {
            "text/plain": [
              "Matrix([\n",
              "[x1, y1],\n",
              "[y1, x1]])"
            ],
            "text/latex": "$\\displaystyle \\left[\\begin{matrix}x_{1} & y_{1}\\\\y_{1} & x_{1}\\end{matrix}\\right]$"
          },
          "metadata": {},
          "execution_count": 16
        }
      ]
    },
    {
      "cell_type": "code",
      "source": [
        "(A1+A2).T"
      ],
      "metadata": {
        "colab": {
          "base_uri": "https://localhost:8080/",
          "height": 58
        },
        "id": "0plxTG6ll_Pp",
        "outputId": "acb89d83-6d28-4428-e904-768c6072bce9"
      },
      "execution_count": 17,
      "outputs": [
        {
          "output_type": "execute_result",
          "data": {
            "text/plain": [
              "Matrix([\n",
              "[x1 + x2, y1 + y2],\n",
              "[y1 + y2, x1 + x2]])"
            ],
            "text/latex": "$\\displaystyle \\left[\\begin{matrix}x_{1} + x_{2} & y_{1} + y_{2}\\\\y_{1} + y_{2} & x_{1} + x_{2}\\end{matrix}\\right]$"
          },
          "metadata": {},
          "execution_count": 17
        }
      ]
    },
    {
      "cell_type": "code",
      "source": [
        "((A1+A2).T).equals(A1+A2)"
      ],
      "metadata": {
        "colab": {
          "base_uri": "https://localhost:8080/"
        },
        "id": "JYWxWJNPmG8y",
        "outputId": "92250ff4-ab49-43ab-cd6d-628dfc14f9a1"
      },
      "execution_count": 18,
      "outputs": [
        {
          "output_type": "execute_result",
          "data": {
            "text/plain": [
              "True"
            ]
          },
          "metadata": {},
          "execution_count": 18
        }
      ]
    },
    {
      "cell_type": "code",
      "source": [
        "c = sp.symbols('c')\n",
        "print (c*A)"
      ],
      "metadata": {
        "colab": {
          "base_uri": "https://localhost:8080/"
        },
        "id": "flrsuuukmMy3",
        "outputId": "d0defa87-0fe1-4ff2-c7a8-43fac12cb4af"
      },
      "execution_count": 19,
      "outputs": [
        {
          "output_type": "stream",
          "name": "stdout",
          "text": [
            "Matrix([[c*x, c*y], [c*y, c*x]])\n"
          ]
        }
      ]
    },
    {
      "cell_type": "code",
      "source": [
        "((c*A).T).equals(c*A)"
      ],
      "metadata": {
        "colab": {
          "base_uri": "https://localhost:8080/"
        },
        "id": "k1euo16QmaKg",
        "outputId": "e0a48529-5fb7-445d-cd40-7b59bf9ef845"
      },
      "execution_count": 20,
      "outputs": [
        {
          "output_type": "execute_result",
          "data": {
            "text/plain": [
              "True"
            ]
          },
          "metadata": {},
          "execution_count": 20
        }
      ]
    },
    {
      "cell_type": "code",
      "source": [
        "import numpy as np\n",
        "v1 = np.array([1, 2, 3])\n",
        "v2 = np.array([0, 1, 2])\n",
        "v3 = np.array([-1, 0, 1])\n",
        "w1 = np.array([1, 1, 1])\n",
        "A = np.column_stack((v1, v2, v3))\n",
        "try:\n",
        "    c = np.linalg.solve(A, w1)\n",
        "    print(\"a. w1 là tổ hợp tuyến tính của v1, v2, v3 với hệ số:\", c)\n",
        "except np.linalg.LinAlgError:\n",
        "    print(\"a. w1 không là tổ hợp tuyến tính của v1, v2, v3\")"
      ],
      "metadata": {
        "colab": {
          "base_uri": "https://localhost:8080/"
        },
        "id": "jgAllwLpma48",
        "outputId": "94004ab3-78ff-49d2-e6fc-1e38a2ad5d4b"
      },
      "execution_count": 21,
      "outputs": [
        {
          "output_type": "stream",
          "name": "stdout",
          "text": [
            "a. w1 là tổ hợp tuyến tính của v1, v2, v3 với hệ số: [ 5.00000000e-01 -1.66533454e-16 -5.00000000e-01]\n"
          ]
        }
      ]
    },
    {
      "cell_type": "code",
      "source": [
        "w2 = np.array([1, -2, 2])\n",
        "\n",
        "try:\n",
        "    c = np.linalg.solve(A, w2)\n",
        "    print(\"b. w2 là tổ hợp tuyến tính của v1, v2, v3 với hệ số:\", c)\n",
        "except np.linalg.LinAlgError:\n",
        "    print(\"b. w2 không là tổ hợp tuyến tính của v1, v2, v3\")"
      ],
      "metadata": {
        "colab": {
          "base_uri": "https://localhost:8080/"
        },
        "id": "_oaK9V0qncMJ",
        "outputId": "2be3d0df-e751-423b-d3c9-5eeb599186df"
      },
      "execution_count": 22,
      "outputs": [
        {
          "output_type": "stream",
          "name": "stdout",
          "text": [
            "b. w2 là tổ hợp tuyến tính của v1, v2, v3 với hệ số: [ 3.15251974e+16 -6.30503948e+16  3.15251974e+16]\n"
          ]
        }
      ]
    },
    {
      "cell_type": "code",
      "source": [
        "import sympy as sp\n",
        "c1, c2, c3 = sp.symbols('c1 c2 c3')\n",
        "sp.solve([c1 - 2*c3, 2*c1 + c2, 3*c1 + 2*c2 + c3], [c1, c2, c3])"
      ],
      "metadata": {
        "colab": {
          "base_uri": "https://localhost:8080/"
        },
        "id": "3kochgH5ngaZ",
        "outputId": "09ad61d8-6ea2-492c-a294-0cb2650e3133"
      },
      "execution_count": 23,
      "outputs": [
        {
          "output_type": "execute_result",
          "data": {
            "text/plain": [
              "{c1: 0, c2: 0, c3: 0}"
            ]
          },
          "metadata": {},
          "execution_count": 23
        }
      ]
    },
    {
      "cell_type": "code",
      "source": [
        "import sympy as sp\n",
        "c1, c2 = sp.symbols('c1 c2')\n",
        "u1, u2 = sp.symbols('u1 u2')\n",
        "sp.solve([c1 + c2 - u1, c1 - c2 - u2])"
      ],
      "metadata": {
        "colab": {
          "base_uri": "https://localhost:8080/"
        },
        "id": "coKMnbJynooa",
        "outputId": "a7d0daa0-bf7d-407d-df82-130e9231d39d"
      },
      "execution_count": 24,
      "outputs": [
        {
          "output_type": "execute_result",
          "data": {
            "text/plain": [
              "{c1: u1/2 + u2/2, c2: u1/2 - u2/2}"
            ]
          },
          "metadata": {},
          "execution_count": 24
        }
      ]
    },
    {
      "cell_type": "code",
      "source": [
        "u1 = 0\n",
        "u2 = 0\n",
        "sp.solve([c1 + c2 - u1, c1 - c2 - u2])"
      ],
      "metadata": {
        "colab": {
          "base_uri": "https://localhost:8080/"
        },
        "id": "JOhxSTEanwfx",
        "outputId": "83f5183a-7fc3-4a19-d1a2-d632a6063231"
      },
      "execution_count": 25,
      "outputs": [
        {
          "output_type": "execute_result",
          "data": {
            "text/plain": [
              "{c1: 0, c2: 0}"
            ]
          },
          "metadata": {},
          "execution_count": 25
        }
      ]
    },
    {
      "cell_type": "code",
      "source": [
        "#2.2.Bài toán ứng dụng: Ma trận biến đổi (ảnh/font chữ/…)\n",
        "import numpy as np\n",
        "P = np.array([[0, 0, 3, 3, 1, 1, 2, 2, 1, 1],\n",
        "              [0, 5, 5, 4, 4, 3, 3, 2, 2, 0]])\n",
        "vecdelta = np.array([4, 2])\n",
        "P_caua = (P.T + vecdelta).T\n",
        "print(P_caua)"
      ],
      "metadata": {
        "colab": {
          "base_uri": "https://localhost:8080/"
        },
        "id": "_BCEIWPUn1u-",
        "outputId": "10d78a33-4c81-4ab9-b5d7-8d00ed160de8"
      },
      "execution_count": 26,
      "outputs": [
        {
          "output_type": "stream",
          "name": "stdout",
          "text": [
            "[[4 4 7 7 5 5 6 6 5 5]\n",
            " [2 7 7 6 6 5 5 4 4 2]]\n"
          ]
        }
      ]
    },
    {
      "cell_type": "code",
      "source": [
        "import numpy as np\n",
        "P = np.array([[0, 0, 3, 3, 1, 1, 2, 2, 1, 1],\n",
        "              [0, 5, 5, 4, 4, 3, 3, 2, 2, 0]])\n",
        "vecdelta = np.array([4, -2])\n",
        "matran_biendoi = np.array([[1.0, 0.0],\n",
        "                           [0.0, 2.0]])\n",
        "P_caub = (P.T @ matran_biendoi + vecdelta).T\n",
        "print(P_caub)"
      ],
      "metadata": {
        "colab": {
          "base_uri": "https://localhost:8080/"
        },
        "id": "VeKV9rF3n43l",
        "outputId": "4507a1b0-b859-4fe1-ea5e-b9da0f01a1e1"
      },
      "execution_count": 27,
      "outputs": [
        {
          "output_type": "stream",
          "name": "stdout",
          "text": [
            "[[ 4.  4.  7.  7.  5.  5.  6.  6.  5.  5.]\n",
            " [-2.  8.  8.  6.  6.  4.  4.  2.  2. -2.]]\n"
          ]
        }
      ]
    },
    {
      "cell_type": "code",
      "source": [
        "import numpy as np\n",
        "def transform_point(x, y, a, b):\n",
        "    M = np.array([\n",
        "        [-1, 0],\n",
        "        [ 0, 1]\n",
        "    ])\n",
        "    P = np.array([x, y])\n",
        "    T = np.array([a, b])\n",
        "    new_point = M @ P + T\n",
        "    return new_point\n",
        "x, y = 3, 2\n",
        "a, b = 5, -1\n",
        "new_x, new_y = transform_point(x, y, a, b)\n",
        "print(f\"Điểm sau biến đổi: ({new_x}, {new_y})\")"
      ],
      "metadata": {
        "colab": {
          "base_uri": "https://localhost:8080/"
        },
        "id": "XWfHp46Kn9cW",
        "outputId": "f7895837-fe84-4e64-c88a-5ee12abbc0b5"
      },
      "execution_count": 28,
      "outputs": [
        {
          "output_type": "stream",
          "name": "stdout",
          "text": [
            "Điểm sau biến đổi: (2, 1)\n"
          ]
        }
      ]
    },
    {
      "cell_type": "code",
      "source": [
        "import numpy as np\n",
        "def shear_translate_point(x, y, p, q, a, b):\n",
        "    M = np.array([\n",
        "        [1, p],\n",
        "        [q, 1]])\n",
        "    P = np.array([x, y])\n",
        "    T = np.array([a, b])\n",
        "    new_point = M @ P + T\n",
        "    return new_point\n",
        "x, y = 3, 2\n",
        "p, q = 0.5, 0\n",
        "a, b = 1, -1\n",
        "new_x, new_y = shear_translate_point(x, y, p, q, a, b)\n",
        "print(f\"Điểm sau biến đổi: ({new_x}, {new_y})\")"
      ],
      "metadata": {
        "colab": {
          "base_uri": "https://localhost:8080/"
        },
        "id": "if4z1E3YozuZ",
        "outputId": "4862078f-3b65-4e15-a33a-f387447ad330"
      },
      "execution_count": 29,
      "outputs": [
        {
          "output_type": "stream",
          "name": "stdout",
          "text": [
            "Điểm sau biến đổi: (5.0, 1.0)\n"
          ]
        }
      ]
    },
    {
      "cell_type": "code",
      "source": [
        "import numpy as np\n",
        "def reflect_y0(x, y):\n",
        "    M = np.array([\n",
        "        [-1, 0],\n",
        "        [ 0, 1]\n",
        "    ])\n",
        "    P = np.array([x, y])\n",
        "    new_point = M @ P\n",
        "    return new_point\n",
        "x, y = 3, 2\n",
        "new_x, new_y = reflect_y0(x, y)\n",
        "print(f\"Đối xứng qua y=0: ({new_x}, {new_y})\")"
      ],
      "metadata": {
        "colab": {
          "base_uri": "https://localhost:8080/"
        },
        "id": "qV_0laoIo4mi",
        "outputId": "3531253e-4ff3-4799-8c52-a5c013ac485f"
      },
      "execution_count": 30,
      "outputs": [
        {
          "output_type": "stream",
          "name": "stdout",
          "text": [
            "Đối xứng qua y=0: (-3, 2)\n"
          ]
        }
      ]
    },
    {
      "cell_type": "code",
      "source": [
        "def reflect_y_eq_x(x, y):\n",
        "    M = np.array([\n",
        "        [0, 1],\n",
        "        [1, 0]])\n",
        "    P = np.array([x, y])\n",
        "    new_point = M @ P\n",
        "    return new_point\n",
        "new_x, new_y = reflect_y_eq_x(x, y)\n",
        "print(f\"Đối xứng qua y=x: ({new_x}, {new_y})\")\n"
      ],
      "metadata": {
        "colab": {
          "base_uri": "https://localhost:8080/"
        },
        "id": "rJAd8BP8o9nA",
        "outputId": "298223bd-8655-429d-e2ea-8f339939511e"
      },
      "execution_count": 31,
      "outputs": [
        {
          "output_type": "stream",
          "name": "stdout",
          "text": [
            "Đối xứng qua y=x: (2, 3)\n"
          ]
        }
      ]
    },
    {
      "cell_type": "code",
      "source": [
        "#3.1.Kiểm tra một ánh xạ là ánh xạ tuyến tính\n",
        "import sympy as sp\n",
        "from sympy import lambdify\n",
        "x1, x2, x3 = sp.symbols('x1 x2 x3')\n",
        "bieuthuc1 = x1 - x2 + x3\n",
        "f1 = lambdify([x1, x2, x3], bieuthuc1, 'numpy')\n",
        "a, b, c = sp.symbols('a b c')\n",
        "d, e, f = sp.symbols('d e f')\n",
        "f1(a, b, c)"
      ],
      "metadata": {
        "colab": {
          "base_uri": "https://localhost:8080/",
          "height": 39
        },
        "id": "YrZhyQtho-Sw",
        "outputId": "4b1f1bb3-7a42-40ac-eac5-52de02c743ab"
      },
      "execution_count": 32,
      "outputs": [
        {
          "output_type": "execute_result",
          "data": {
            "text/plain": [
              "a - b + c"
            ],
            "text/latex": "$\\displaystyle a - b + c$"
          },
          "metadata": {},
          "execution_count": 32
        }
      ]
    },
    {
      "cell_type": "code",
      "source": [
        "f1(d, e, f)"
      ],
      "metadata": {
        "colab": {
          "base_uri": "https://localhost:8080/",
          "height": 39
        },
        "id": "mUTQks5hpGg5",
        "outputId": "fcb335cf-6ff5-4ce4-bf0a-d6a3d22d6d62"
      },
      "execution_count": 33,
      "outputs": [
        {
          "output_type": "execute_result",
          "data": {
            "text/plain": [
              "d - e + f"
            ],
            "text/latex": "$\\displaystyle d - e + f$"
          },
          "metadata": {},
          "execution_count": 33
        }
      ]
    },
    {
      "cell_type": "code",
      "source": [
        "f1(a+d, b+e, c+f)"
      ],
      "metadata": {
        "colab": {
          "base_uri": "https://localhost:8080/",
          "height": 39
        },
        "id": "fepQkGs9pIiN",
        "outputId": "ded99dc6-9b40-4db3-ab3a-d9835f3417b3"
      },
      "execution_count": 34,
      "outputs": [
        {
          "output_type": "execute_result",
          "data": {
            "text/plain": [
              "a - b + c + d - e + f"
            ],
            "text/latex": "$\\displaystyle a - b + c + d - e + f$"
          },
          "metadata": {},
          "execution_count": 34
        }
      ]
    },
    {
      "cell_type": "code",
      "source": [
        "f1(a,b,c) + f1(d,e,f) == f1(a+d, b+e, c+f)"
      ],
      "metadata": {
        "colab": {
          "base_uri": "https://localhost:8080/"
        },
        "id": "0V5v6inmpMnW",
        "outputId": "06c8e031-16aa-419e-98dc-b843413d67fe"
      },
      "execution_count": 35,
      "outputs": [
        {
          "output_type": "execute_result",
          "data": {
            "text/plain": [
              "True"
            ]
          },
          "metadata": {},
          "execution_count": 35
        }
      ]
    },
    {
      "cell_type": "code",
      "source": [
        "(f1(a,b,c) + f1(d,e,f)).equals( f1(a+d, b+e, c+f))"
      ],
      "metadata": {
        "colab": {
          "base_uri": "https://localhost:8080/"
        },
        "id": "_kc0N0PDpOXN",
        "outputId": "c7d4ee81-5e5f-4e60-c807-163097fd15d6"
      },
      "execution_count": 36,
      "outputs": [
        {
          "output_type": "execute_result",
          "data": {
            "text/plain": [
              "True"
            ]
          },
          "metadata": {},
          "execution_count": 36
        }
      ]
    },
    {
      "cell_type": "code",
      "source": [
        "q = sp.symbols('q')\n",
        "(q*f1(a,b,c) + f1(d,e,f)).equals(f1(q*a+d, q*b+e, q*c+f).expand())"
      ],
      "metadata": {
        "colab": {
          "base_uri": "https://localhost:8080/"
        },
        "id": "IGWKcWfjpO-C",
        "outputId": "6b96f421-e7af-4262-cfd3-57efca03f747"
      },
      "execution_count": 37,
      "outputs": [
        {
          "output_type": "execute_result",
          "data": {
            "text/plain": [
              "True"
            ]
          },
          "metadata": {},
          "execution_count": 37
        }
      ]
    },
    {
      "cell_type": "code",
      "source": [
        "bieuthuc2 = 2*x2 + 3* x3\n",
        "f2 = lambdify([x1, x2, x3], bieuthuc2, 'numpy')\n",
        "(q*f2(a,b,c) + f2(d,e,f)).equals(f2(q*a+d, q*b+e, q*c+f).expand())"
      ],
      "metadata": {
        "colab": {
          "base_uri": "https://localhost:8080/"
        },
        "id": "q-95ZcSYpRt5",
        "outputId": "08ece1d8-6b4c-4adf-c5d8-4b8066bbb639"
      },
      "execution_count": 38,
      "outputs": [
        {
          "output_type": "execute_result",
          "data": {
            "text/plain": [
              "True"
            ]
          },
          "metadata": {},
          "execution_count": 38
        }
      ]
    },
    {
      "cell_type": "code",
      "source": [
        "#3.2.Tìm tổ hợp tuyến tính cho một ánh xạ tuyến tính\n",
        "import numpy as np\n",
        "u1 = np.array([1, 2])\n",
        "u2 = np.array([3, 5])\n",
        "u3 = np.array([4, 5])\n",
        "A = np.column_stack((u1, u2))\n",
        "b = u3\n",
        "alpha_beta = np.linalg.solve(A, b)\n",
        "alpha, beta = alpha_beta\n",
        "print(f\"α = {alpha}, β = {beta}\")\n",
        "f_u1 = np.array([1, 1, 2])\n",
        "f_u2 = np.array([4, 2, 1])\n",
        "f_u3 = alpha * f_u1 + beta * f_u2\n",
        "print(f\"f(u3) = {f_u3}\")"
      ],
      "metadata": {
        "colab": {
          "base_uri": "https://localhost:8080/"
        },
        "id": "vJBizcAMpXQB",
        "outputId": "20d9d8db-322a-43d8-b2c7-35daf20a131b"
      },
      "execution_count": 39,
      "outputs": [
        {
          "output_type": "stream",
          "name": "stdout",
          "text": [
            "α = -5.0, β = 3.0\n",
            "f(u3) = [ 7.  1. -7.]\n"
          ]
        }
      ]
    },
    {
      "cell_type": "code",
      "source": [
        "#3.3.Tìm ánh xạ tuyến tính\n",
        "import sympy as sp\n",
        "a, b = sp.symbols('a b')\n",
        "x, y = sp.symbols('x y')\n",
        "sp.solve([a + 3*b - x, 2*a + 5*b - y], [a, b])"
      ],
      "metadata": {
        "colab": {
          "base_uri": "https://localhost:8080/"
        },
        "id": "psk_ZEKxrcJ3",
        "outputId": "d9cda297-1608-45be-b9ca-f9924f6dd759"
      },
      "execution_count": 40,
      "outputs": [
        {
          "output_type": "execute_result",
          "data": {
            "text/plain": [
              "{a: -5*x + 3*y, b: 2*x - y}"
            ]
          },
          "metadata": {},
          "execution_count": 40
        }
      ]
    },
    {
      "cell_type": "code",
      "source": [
        "fu1 = np.array([1, 1, 2])\n",
        "fu2 = np.array([4, 2, 1])\n",
        "fu = a*fu1 + b*fu2\n",
        "print(fu)"
      ],
      "metadata": {
        "colab": {
          "base_uri": "https://localhost:8080/"
        },
        "id": "RdLyqhfOrgqP",
        "outputId": "b97f1c4d-b7df-47f6-d033-5f428788e283"
      },
      "execution_count": 41,
      "outputs": [
        {
          "output_type": "stream",
          "name": "stdout",
          "text": [
            "[a + 4*b a + 2*b 2*a + b]\n"
          ]
        }
      ]
    },
    {
      "cell_type": "code",
      "source": [
        "fu = a.subs(a, -5*x + 3*y)*fu1 + b.subs(b, 2*x - y)*fu2\n",
        "print (fu)"
      ],
      "metadata": {
        "colab": {
          "base_uri": "https://localhost:8080/"
        },
        "id": "qsbfDF34rlwo",
        "outputId": "c557bb51-f5e2-473d-a411-060de0cef518"
      },
      "execution_count": 42,
      "outputs": [
        {
          "output_type": "stream",
          "name": "stdout",
          "text": [
            "[3*x - y -x + y -8*x + 5*y]\n"
          ]
        }
      ]
    },
    {
      "cell_type": "code",
      "source": [
        "#3.4.Tìm nhân của ánh xạ tuyến tính\n",
        "x1, x2, x3 = sp.symbols('x1 x2 x3')\n",
        "sp.solve([x1+x2-x3, 2*x1+3*x2-x3, 3*x1+5*x2-x3],[x1, x2, x3])"
      ],
      "metadata": {
        "colab": {
          "base_uri": "https://localhost:8080/"
        },
        "id": "aKzy_pHiroUo",
        "outputId": "6de91c6f-1d6f-449d-fd9a-f96873403528"
      },
      "execution_count": 43,
      "outputs": [
        {
          "output_type": "execute_result",
          "data": {
            "text/plain": [
              "{x1: 2*x3, x2: -x3}"
            ]
          },
          "metadata": {},
          "execution_count": 43
        }
      ]
    },
    {
      "cell_type": "code",
      "source": [
        "#3.6. Ma trận của ánh xạ tuyến tính trong cặp cơ sở\n",
        "import numpy as np\n",
        "u1 = np.array([-1, 1])\n",
        "u2 = np.array([1, 0])\n",
        "v1 = np.array([1, 2])\n",
        "v2 = np.array([1, 3])\n",
        "def f(x):\n",
        "    return np.array([x[0] - x[1], x[0]])\n",
        "fu1 = f(u1)  # f(-1,1) = (-2, -1)\n",
        "fu2 = f(u2)  # f(1,0)  = (1, 1)\n",
        "F = np.column_stack((v1, v2))\n",
        "coords_fu1 = np.linalg.solve(F, fu1)\n",
        "coords_fu2 = np.linalg.solve(F, fu2)\n",
        "A = np.column_stack((coords_fu1, coords_fu2))\n",
        "print(\"Tọa độ [f(u1)]_F:\", coords_fu1)\n",
        "print(\"Tọa độ [f(u2)]_F:\", coords_fu2)\n",
        "print(\"Ma trận ánh xạ A = [f]^F_B:\\n\", A)"
      ],
      "metadata": {
        "colab": {
          "base_uri": "https://localhost:8080/"
        },
        "id": "fNLYMVC7rrLB",
        "outputId": "014e18bd-a725-411a-8e19-d47f470c5a46"
      },
      "execution_count": 44,
      "outputs": [
        {
          "output_type": "stream",
          "name": "stdout",
          "text": [
            "Tọa độ [f(u1)]_F: [-5.  3.]\n",
            "Tọa độ [f(u2)]_F: [ 2. -1.]\n",
            "Ma trận ánh xạ A = [f]^F_B:\n",
            " [[-5.  2.]\n",
            " [ 3. -1.]]\n"
          ]
        }
      ]
    },
    {
      "cell_type": "code",
      "source": [
        "import numpy as np\n",
        "import math\n",
        "from scipy import linalg as LA\n",
        "B = np.matrix([[1.0 / math.sqrt(2), 1.0 / math.sqrt(2)],\n",
        "               [-1.0 / math.sqrt(2), 1.0 / math.sqrt(2)]])\n",
        "LA.orth(B)"
      ],
      "metadata": {
        "colab": {
          "base_uri": "https://localhost:8080/"
        },
        "id": "vL5eEPfmsCVz",
        "outputId": "9c3ea042-ed01-417f-f4c4-072a4d18aeee"
      },
      "execution_count": 45,
      "outputs": [
        {
          "output_type": "execute_result",
          "data": {
            "text/plain": [
              "array([[-0.70710678,  0.70710678],\n",
              "       [ 0.70710678,  0.70710678]])"
            ]
          },
          "metadata": {},
          "execution_count": 45
        }
      ]
    },
    {
      "cell_type": "code",
      "source": [
        "1.0/math.sqrt(2)"
      ],
      "metadata": {
        "colab": {
          "base_uri": "https://localhost:8080/"
        },
        "id": "BYWDSTyGsJxE",
        "outputId": "b0b878ef-5735-4e45-8c53-03a725182d2c"
      },
      "execution_count": 46,
      "outputs": [
        {
          "output_type": "execute_result",
          "data": {
            "text/plain": [
              "0.7071067811865475"
            ]
          },
          "metadata": {},
          "execution_count": 46
        }
      ]
    },
    {
      "cell_type": "code",
      "source": [
        "#4. Bài toán ứng dụng: Đường conic và các phép biến đổi\n",
        "import sympy as sp\n",
        "x, y, xp, yp = sp.symbols('x y x_prime y_prime')\n",
        "theta = sp.pi / 4\n",
        "cos_t = sp.cos(theta)\n",
        "sin_t = sp.sin(theta)\n",
        "x_sub = cos_t * xp - sin_t * yp\n",
        "y_sub = sin_t * xp + cos_t * yp\n",
        "f = 5*x**2 - 6*x*y + 5*y**2 + 14*x - 2*sp.sqrt(2)*y + 18\n",
        "f_transformed = f.subs({x: x_sub, y: y_sub})\n",
        "f_transformed_simplified = sp.simplify(f_transformed)\n",
        "print(\"Phương trình sau khi biến đổi là:\")\n",
        "sp.pprint(f_transformed_simplified)"
      ],
      "metadata": {
        "colab": {
          "base_uri": "https://localhost:8080/"
        },
        "id": "dOXFZwLGsQFC",
        "outputId": "5e9f7733-eaf6-42b4-baff-e36f5faa1ed8"
      },
      "execution_count": 47,
      "outputs": [
        {
          "output_type": "stream",
          "name": "stdout",
          "text": [
            "Phương trình sau khi biến đổi là:\n",
            "        2                                    2                              \n",
            "2⋅xₚᵣᵢₘₑ  - 2⋅xₚᵣᵢₘₑ + 7⋅√2⋅xₚᵣᵢₘₑ + 8⋅yₚᵣᵢₘₑ  - 7⋅√2⋅yₚᵣᵢₘₑ - 2⋅yₚᵣᵢₘₑ + 18\n"
          ]
        }
      ]
    },
    {
      "cell_type": "markdown",
      "source": [
        "BÀI TẬP VỀ"
      ],
      "metadata": {
        "id": "q0qHIm74t2Os"
      }
    },
    {
      "cell_type": "code",
      "source": [
        "#câu 1\n",
        "import sympy as sp\n",
        "def g(x, y, z):\n",
        "    return (x + y, z + 2, 0)\n",
        "u = sp.Matrix([1, 2, 3])\n",
        "v = sp.Matrix([4, 5, 6])\n",
        "c = 3\n",
        "g_u = sp.Matrix(g(*u))\n",
        "g_v = sp.Matrix(g(*v))\n",
        "g_u_plus_v = sp.Matrix(g(*(u + v)))\n",
        "g_u_plus_g_v = g_u + g_v\n",
        "g_cu = sp.Matrix(g(*(c * u)))\n",
        "c_g_u = c * g_u\n",
        "print(\"g(u + v) == g(u) + g(v)?\", g_u_plus_v == g_u_plus_g_v)\n",
        "print(\"g(c * u) == c * g(u)?\", g_cu == c_g_u)"
      ],
      "metadata": {
        "colab": {
          "base_uri": "https://localhost:8080/"
        },
        "id": "hmRr0LDps29J",
        "outputId": "68bdbfef-b9b2-4cda-e0d0-a424ead4d09f"
      },
      "execution_count": 49,
      "outputs": [
        {
          "output_type": "stream",
          "name": "stdout",
          "text": [
            "g(u + v) == g(u) + g(v)? False\n",
            "g(c * u) == c * g(u)? False\n"
          ]
        }
      ]
    },
    {
      "cell_type": "code",
      "source": [
        "#câu 2\n",
        "import numpy as np\n",
        "theta_deg = 45\n",
        "theta = np.radians(theta_deg)\n",
        "P = np.array([[np.cos(theta), np.sin(theta)],\n",
        "              [-np.sin(theta), np.cos(theta)]])\n",
        "X = np.array([[2], [3]])\n",
        "X_new = P @ X\n",
        "print(\"Toạ độ điểm sau khi biến đổi (trong cơ sở xoay):\")\n",
        "print(X_new)"
      ],
      "metadata": {
        "colab": {
          "base_uri": "https://localhost:8080/"
        },
        "id": "dtqTxSVPt-4M",
        "outputId": "2ae173e9-3037-4f9b-d140-8241914baa7e"
      },
      "execution_count": 50,
      "outputs": [
        {
          "output_type": "stream",
          "name": "stdout",
          "text": [
            "Toạ độ điểm sau khi biến đổi (trong cơ sở xoay):\n",
            "[[3.53553391]\n",
            " [0.70710678]]\n"
          ]
        }
      ]
    },
    {
      "cell_type": "code",
      "source": [
        "#câu 3\n",
        "import sympy as sp\n",
        "def T(v1, v2):\n",
        "    return (v1 - v2, v1 + 2*v2)\n",
        "u = sp.Matrix([1, 2])\n",
        "v = sp.Matrix([3, -1])\n",
        "c = 4\n",
        "T_u = sp.Matrix(T(*u))\n",
        "T_v = sp.Matrix(T(*v))\n",
        "T_u_plus_v = sp.Matrix(T(*(u + v)))\n",
        "T_u_plus_T_v = T_u + T_v\n",
        "T_cu = sp.Matrix(T(*(c * u)))\n",
        "c_T_u = c * T_u\n",
        "print(\"T(u + v) == T(u) + T(v)\", T_u_plus_v == T_u_plus_T_v)\n",
        "print(\"T(c * u) == c * T(u)\", T_cu == c_T_u)"
      ],
      "metadata": {
        "colab": {
          "base_uri": "https://localhost:8080/"
        },
        "id": "krXbIy4LuGrY",
        "outputId": "a4d2ad51-1b64-4298-b6ad-7a0f4b64d924"
      },
      "execution_count": 53,
      "outputs": [
        {
          "output_type": "stream",
          "name": "stdout",
          "text": [
            "T(u + v) == T(u) + T(v) True\n",
            "T(c * u) == c * T(u) True\n"
          ]
        }
      ]
    },
    {
      "cell_type": "code",
      "source": [
        "#câu 4\n",
        "import sympy as sp\n",
        "import numpy as np\n",
        "a, b, c = 13, -10, 13\n",
        "A = sp.Matrix([[a, b/2],\n",
        "               [b/2, c]])\n",
        "eigenvals = A.eigenvals()\n",
        "print(\"Trị riêng λ1, λ2 là:\")\n",
        "sp.pprint(eigenvals)\n",
        "A_np = np.array([[a, b/2], [b/2, c]])\n",
        "eigvals, eigvecs = np.linalg.eigh(A_np)\n",
        "theta_rad = np.arctan2(eigvecs[1, 0], eigvecs[0, 0])\n",
        "theta_deg = np.degrees(theta_rad)\n",
        "print(f\"Góc xoay là: {theta_deg:.2f} độ\")"
      ],
      "metadata": {
        "colab": {
          "base_uri": "https://localhost:8080/"
        },
        "id": "PrERGNT5uNl7",
        "outputId": "bf8d537c-a17b-4487-f424-a2e274c81b3f"
      },
      "execution_count": 52,
      "outputs": [
        {
          "output_type": "stream",
          "name": "stdout",
          "text": [
            "Trị riêng λ1, λ2 là:\n",
            "{8.0: 1, 18.0: 1}\n",
            "Góc xoay là: -135.00 độ\n"
          ]
        }
      ]
    },
    {
      "cell_type": "code",
      "source": [
        "#bài toán\n",
        "import numpy as np\n",
        "import sympy as sp\n",
        "a, b, c = 13, -10, 13\n",
        "d, e, f = 0, 0, -72\n",
        "A = np.array([[a, b/2], [b/2, c]])\n",
        "eigvals, eigvecs = np.linalg.eigh(A)\n",
        "print(\"Trị riêng (λ1, λ2):\", eigvals)\n",
        "theta = np.arctan2(eigvecs[1, 0], eigvecs[0, 0])\n",
        "theta_deg = np.degrees(theta)\n",
        "print(f\"Góc xoay: {theta_deg:.2f} độ\")\n",
        "x, y = sp.symbols('x y')\n",
        "cos_theta = sp.sqrt(2)/2\n",
        "sin_theta = cos_theta\n",
        "x_new = cos_theta * x - sin_theta * y\n",
        "y_new = sin_theta * x + cos_theta * y\n",
        "expr = 13 * x**2 - 10 * x * y + 13 * y**2 - 72\n",
        "expr_rotated = expr.subs({x: x_new, y: y_new})\n",
        "expr_rotated = sp.simplify(expr_rotated)\n",
        "print(\"Phương trình sau khi xoay:\")\n",
        "sp.pprint(expr_rotated)\n",
        "expr_normalized = sp.Eq(expr_rotated, 0)\n",
        "sp.pprint(expr_normalized)"
      ],
      "metadata": {
        "colab": {
          "base_uri": "https://localhost:8080/"
        },
        "id": "FOZCOvk_uSFQ",
        "outputId": "73ce46ee-38cc-4f1f-912f-8a3acacecdf3"
      },
      "execution_count": 56,
      "outputs": [
        {
          "output_type": "stream",
          "name": "stdout",
          "text": [
            "Trị riêng (λ1, λ2): [ 8. 18.]\n",
            "Góc xoay: -135.00 độ\n",
            "Phương trình sau khi xoay:\n",
            "          2                                                    2     \n",
            "13⋅(x + y)    5⋅√2⋅(x + y)⋅(-x + √2⋅x - y)   13⋅(-x + √2⋅x - y)      \n",
            "─────────── - ──────────────────────────── + ─────────────────── - 72\n",
            "     2                     2                          4              \n",
            "          2                                                    2         \n",
            "13⋅(x + y)    5⋅√2⋅(x + y)⋅(-x + √2⋅x - y)   13⋅(-x + √2⋅x - y)          \n",
            "─────────── - ──────────────────────────── + ─────────────────── - 72 = 0\n",
            "     2                     2                          4                  \n"
          ]
        }
      ]
    }
  ]
}