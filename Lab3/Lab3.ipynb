{
  "nbformat": 4,
  "nbformat_minor": 0,
  "metadata": {
    "colab": {
      "provenance": []
    },
    "kernelspec": {
      "name": "python3",
      "display_name": "Python 3"
    },
    "language_info": {
      "name": "python"
    }
  },
  "cells": [
    {
      "cell_type": "markdown",
      "source": [
        "BÀI TẬP TRÊN LỚP"
      ],
      "metadata": {
        "id": "R9iF49JoRpcJ"
      }
    },
    {
      "cell_type": "code",
      "source": [
        "#1.1. Một số phép xử lý ma trận của NumPy và Scipy\n",
        "from scipy import linalg\n",
        "import numpy as np\n",
        "a = np.array([1, 2, 3])\n",
        "b = np.array([(1+9j, 2j, 3j), (4j, 5j, 6j)])\n",
        "c = np.array([[ (0.5, 1.5, 10), (3,2,1) ] , [(6,5,4), (7,8,9)]])\n",
        "A = np.matrix(np.random.random((2,2)))\n",
        "B = np.asmatrix(b)\n",
        "C = np.asmatrix(np.random.random( (10,5) ) )\n",
        "D = np.asmatrix([[4,3],[2,6]])\n",
        "F = np.eye(3, k=1)\n",
        "print(a)"
      ],
      "metadata": {
        "colab": {
          "base_uri": "https://localhost:8080/"
        },
        "id": "QfuHvUR_Rx79",
        "outputId": "d3451640-2be1-44a6-b425-640fbebc39bb"
      },
      "execution_count": null,
      "outputs": [
        {
          "output_type": "stream",
          "name": "stdout",
          "text": [
            "[1 2 3]\n"
          ]
        }
      ]
    },
    {
      "cell_type": "code",
      "source": [
        "print(b)"
      ],
      "metadata": {
        "colab": {
          "base_uri": "https://localhost:8080/"
        },
        "id": "L6Lgosd-Up-u",
        "outputId": "c92d9610-8702-48d7-b286-a3ecfae69a3c"
      },
      "execution_count": null,
      "outputs": [
        {
          "output_type": "stream",
          "name": "stdout",
          "text": [
            "[[1.+9.j 0.+2.j 0.+3.j]\n",
            " [0.+4.j 0.+5.j 0.+6.j]]\n"
          ]
        }
      ]
    },
    {
      "cell_type": "code",
      "source": [
        "print(c)"
      ],
      "metadata": {
        "colab": {
          "base_uri": "https://localhost:8080/"
        },
        "id": "J_tMfK6JU8Tl",
        "outputId": "be471e2f-ed67-46a3-a886-93c8ea8249f5"
      },
      "execution_count": null,
      "outputs": [
        {
          "output_type": "stream",
          "name": "stdout",
          "text": [
            "[[[ 0.5  1.5 10. ]\n",
            "  [ 3.   2.   1. ]]\n",
            "\n",
            " [[ 6.   5.   4. ]\n",
            "  [ 7.   8.   9. ]]]\n"
          ]
        }
      ]
    },
    {
      "cell_type": "code",
      "source": [
        "print(A)"
      ],
      "metadata": {
        "colab": {
          "base_uri": "https://localhost:8080/"
        },
        "id": "d37ue8t1U--q",
        "outputId": "540f6f87-a713-44c8-c0f7-c3acfa894211"
      },
      "execution_count": null,
      "outputs": [
        {
          "output_type": "stream",
          "name": "stdout",
          "text": [
            "[[0.71789119 0.96162139]\n",
            " [0.04198656 0.24518689]]\n"
          ]
        }
      ]
    },
    {
      "cell_type": "code",
      "source": [
        "print(B)"
      ],
      "metadata": {
        "colab": {
          "base_uri": "https://localhost:8080/"
        },
        "id": "tE-BTP3xVB0O",
        "outputId": "1137bf74-997e-49c2-ba28-b4f53d125234"
      },
      "execution_count": null,
      "outputs": [
        {
          "output_type": "stream",
          "name": "stdout",
          "text": [
            "[[1.+9.j 0.+2.j 0.+3.j]\n",
            " [0.+4.j 0.+5.j 0.+6.j]]\n"
          ]
        }
      ]
    },
    {
      "cell_type": "code",
      "source": [
        "print(C)"
      ],
      "metadata": {
        "colab": {
          "base_uri": "https://localhost:8080/"
        },
        "id": "AJp0Yus2VDs1",
        "outputId": "b9c3c517-36f2-4840-b8ca-2a6646d18637"
      },
      "execution_count": null,
      "outputs": [
        {
          "output_type": "stream",
          "name": "stdout",
          "text": [
            "[[0.26151528 0.6459644  0.65601326 0.13212675 0.72318339]\n",
            " [0.96579301 0.90387936 0.91735415 0.09979436 0.63351851]\n",
            " [0.32837944 0.07590012 0.12632595 0.99889111 0.3800526 ]\n",
            " [0.226316   0.85663014 0.14024295 0.71723912 0.928032  ]\n",
            " [0.34506699 0.03353807 0.47268816 0.0169421  0.86956186]\n",
            " [0.7697958  0.62201014 0.08149457 0.6536555  0.65340229]\n",
            " [0.53135628 0.05880282 0.55913934 0.06122421 0.58995311]\n",
            " [0.82634627 0.92882875 0.61570465 0.0875968  0.73406259]\n",
            " [0.32756951 0.41061142 0.7316741  0.0890835  0.3175727 ]\n",
            " [0.20953356 0.46131157 0.49999564 0.93212718 0.41297916]]\n"
          ]
        }
      ]
    },
    {
      "cell_type": "code",
      "source": [
        "print(D)"
      ],
      "metadata": {
        "colab": {
          "base_uri": "https://localhost:8080/"
        },
        "id": "Wt-uDf5sVFVl",
        "outputId": "c564151b-f251-4ec5-dfc9-78045728ef91"
      },
      "execution_count": null,
      "outputs": [
        {
          "output_type": "stream",
          "name": "stdout",
          "text": [
            "[[4 3]\n",
            " [2 6]]\n"
          ]
        }
      ]
    },
    {
      "cell_type": "code",
      "source": [
        "print(F)"
      ],
      "metadata": {
        "colab": {
          "base_uri": "https://localhost:8080/"
        },
        "id": "8yAUnz_-VHI4",
        "outputId": "471bc0a3-e2e5-4970-d4cb-fcea42e05529"
      },
      "execution_count": null,
      "outputs": [
        {
          "output_type": "stream",
          "name": "stdout",
          "text": [
            "[[0. 1. 0.]\n",
            " [0. 0. 1.]\n",
            " [0. 0. 0.]]\n"
          ]
        }
      ]
    },
    {
      "cell_type": "code",
      "source": [
        "F = np.eye(3, k=0)\n",
        "print(F)"
      ],
      "metadata": {
        "colab": {
          "base_uri": "https://localhost:8080/"
        },
        "id": "0aD7s6u2VMdK",
        "outputId": "06c5ef96-e853-4e25-e4ba-96a0a958f3a2"
      },
      "execution_count": null,
      "outputs": [
        {
          "output_type": "stream",
          "name": "stdout",
          "text": [
            "[[1. 0. 0.]\n",
            " [0. 1. 0.]\n",
            " [0. 0. 1.]]\n"
          ]
        }
      ]
    },
    {
      "cell_type": "code",
      "source": [
        "F = np.eye(3, k=-1)\n",
        "print(F)"
      ],
      "metadata": {
        "colab": {
          "base_uri": "https://localhost:8080/"
        },
        "id": "Q3gJovwKVYyy",
        "outputId": "f93c4f69-e0fe-4619-d557-3893884a1870"
      },
      "execution_count": null,
      "outputs": [
        {
          "output_type": "stream",
          "name": "stdout",
          "text": [
            "[[0. 0. 0.]\n",
            " [1. 0. 0.]\n",
            " [0. 1. 0.]]\n"
          ]
        }
      ]
    },
    {
      "cell_type": "code",
      "source": [
        "print(np.linalg.matrix_rank(C))"
      ],
      "metadata": {
        "colab": {
          "base_uri": "https://localhost:8080/"
        },
        "id": "IrUiHFDNVeDC",
        "outputId": "d2b561cb-ed9d-4e43-901b-97a0c43a01e8"
      },
      "execution_count": null,
      "outputs": [
        {
          "output_type": "stream",
          "name": "stdout",
          "text": [
            "5\n"
          ]
        }
      ]
    },
    {
      "cell_type": "code",
      "source": [
        "print(A.I)"
      ],
      "metadata": {
        "colab": {
          "base_uri": "https://localhost:8080/"
        },
        "id": "3OiPqoOMVifL",
        "outputId": "cf9e19ec-c622-4d88-8288-c66e514c5271"
      },
      "execution_count": null,
      "outputs": [
        {
          "output_type": "stream",
          "name": "stdout",
          "text": [
            "[[ 1.80759855 -7.08938965]\n",
            " [-0.30953874  5.29253033]]\n"
          ]
        }
      ]
    },
    {
      "cell_type": "code",
      "source": [
        "print(linalg.inv(A))"
      ],
      "metadata": {
        "colab": {
          "base_uri": "https://localhost:8080/"
        },
        "id": "8pk7SL4kVkvY",
        "outputId": "05be7ae6-408a-42ae-b95b-ddf67e0aea02"
      },
      "execution_count": null,
      "outputs": [
        {
          "output_type": "stream",
          "name": "stdout",
          "text": [
            "[[ 1.80759855 -7.08938965]\n",
            " [-0.30953874  5.29253033]]\n"
          ]
        }
      ]
    },
    {
      "cell_type": "code",
      "source": [
        "print(linalg.det(A))"
      ],
      "metadata": {
        "colab": {
          "base_uri": "https://localhost:8080/"
        },
        "id": "_vqaplgBVm-c",
        "outputId": "20bb1aac-74cc-4a48-feca-96a8ad2114c9"
      },
      "execution_count": null,
      "outputs": [
        {
          "output_type": "stream",
          "name": "stdout",
          "text": [
            "0.13564233867057587\n"
          ]
        }
      ]
    },
    {
      "cell_type": "code",
      "source": [
        "print(A.T)"
      ],
      "metadata": {
        "colab": {
          "base_uri": "https://localhost:8080/"
        },
        "id": "Nk6t1qZMVpKc",
        "outputId": "76225ee8-b4b7-47a3-bb25-425f4591f122"
      },
      "execution_count": null,
      "outputs": [
        {
          "output_type": "stream",
          "name": "stdout",
          "text": [
            "[[0.71789119 0.04198656]\n",
            " [0.96162139 0.24518689]]\n"
          ]
        }
      ]
    },
    {
      "cell_type": "code",
      "source": [
        "print(A.H)"
      ],
      "metadata": {
        "colab": {
          "base_uri": "https://localhost:8080/"
        },
        "id": "g7atpEXsV7lb",
        "outputId": "4ef0cc81-0425-4656-84c4-33d9c448d5ce"
      },
      "execution_count": null,
      "outputs": [
        {
          "output_type": "stream",
          "name": "stdout",
          "text": [
            "[[0.71789119 0.04198656]\n",
            " [0.96162139 0.24518689]]\n"
          ]
        }
      ]
    },
    {
      "cell_type": "code",
      "source": [
        "print(linalg.solve(A, b))"
      ],
      "metadata": {
        "colab": {
          "base_uri": "https://localhost:8080/"
        },
        "id": "GkSbMvwuWDTB",
        "outputId": "e3590b05-917b-4db4-a70f-01720d391471"
      },
      "execution_count": null,
      "outputs": [
        {
          "output_type": "stream",
          "name": "stdout",
          "text": [
            "[[ 1.80759855-12.08917167j  0.        -31.83175115j\n",
            "   0.        -37.11354226j]\n",
            " [-0.30953874+18.38427265j  0.        +25.84357416j\n",
            "   0.        +30.82656575j]]\n"
          ]
        }
      ]
    },
    {
      "cell_type": "code",
      "source": [
        "E = np.asmatrix(a).T\n",
        "print(E)"
      ],
      "metadata": {
        "colab": {
          "base_uri": "https://localhost:8080/"
        },
        "id": "xWqKtGCaW1NW",
        "outputId": "30d85a42-1c1a-4aaa-c804-c5c931254e95"
      },
      "execution_count": null,
      "outputs": [
        {
          "output_type": "stream",
          "name": "stdout",
          "text": [
            "[[1]\n",
            " [2]\n",
            " [3]]\n"
          ]
        }
      ]
    },
    {
      "cell_type": "code",
      "source": [
        "print(linalg.lstsq(F, E))"
      ],
      "metadata": {
        "colab": {
          "base_uri": "https://localhost:8080/"
        },
        "id": "eup3KkliW5RP",
        "outputId": "4ad9a656-1725-444f-db6f-59531ba0493a"
      },
      "execution_count": null,
      "outputs": [
        {
          "output_type": "stream",
          "name": "stdout",
          "text": [
            "(array([[2.],\n",
            "       [3.],\n",
            "       [0.]]), array([], dtype=float64), 2, array([1., 1., 0.]))\n"
          ]
        }
      ]
    },
    {
      "cell_type": "code",
      "source": [
        "print(np.add(A, D))"
      ],
      "metadata": {
        "colab": {
          "base_uri": "https://localhost:8080/"
        },
        "id": "9LOEZXzvXCY6",
        "outputId": "6b9848f7-ab00-4477-cc53-38cfc63bf102"
      },
      "execution_count": null,
      "outputs": [
        {
          "output_type": "stream",
          "name": "stdout",
          "text": [
            "[[4.71789119 3.96162139]\n",
            " [2.04198656 6.24518689]]\n"
          ]
        }
      ]
    },
    {
      "cell_type": "code",
      "source": [
        "print(np.subtract(A, D))"
      ],
      "metadata": {
        "colab": {
          "base_uri": "https://localhost:8080/"
        },
        "id": "m7OW7n0cXH32",
        "outputId": "6cb8a33f-3ccb-4460-962c-9b8cd6c276db"
      },
      "execution_count": null,
      "outputs": [
        {
          "output_type": "stream",
          "name": "stdout",
          "text": [
            "[[-3.28210881 -2.03837861]\n",
            " [-1.95801344 -5.75481311]]\n"
          ]
        }
      ]
    },
    {
      "cell_type": "code",
      "source": [
        "print(np.divide(A, D))"
      ],
      "metadata": {
        "colab": {
          "base_uri": "https://localhost:8080/"
        },
        "id": "9rJ2i2G0XLQH",
        "outputId": "cb449d98-b528-4772-c1bc-23eedd117953"
      },
      "execution_count": null,
      "outputs": [
        {
          "output_type": "stream",
          "name": "stdout",
          "text": [
            "[[0.1794728  0.32054046]\n",
            " [0.02099328 0.04086448]]\n"
          ]
        }
      ]
    },
    {
      "cell_type": "code",
      "source": [
        "print(A @ D)"
      ],
      "metadata": {
        "colab": {
          "base_uri": "https://localhost:8080/"
        },
        "id": "PPzouExWXP3d",
        "outputId": "5220d768-bbea-4c40-c332-56ed6409ed72"
      },
      "execution_count": null,
      "outputs": [
        {
          "output_type": "stream",
          "name": "stdout",
          "text": [
            "[[4.79480755 7.92340193]\n",
            " [0.65832002 1.59708104]]\n"
          ]
        }
      ]
    },
    {
      "cell_type": "code",
      "source": [
        "print(np.multiply(D, A))"
      ],
      "metadata": {
        "colab": {
          "base_uri": "https://localhost:8080/"
        },
        "id": "QWNH_md5XTry",
        "outputId": "f2d43d47-82c9-4de5-9b51-fcb20654153b"
      },
      "execution_count": null,
      "outputs": [
        {
          "output_type": "stream",
          "name": "stdout",
          "text": [
            "\n"
          ]
        },
        {
          "output_type": "execute_result",
          "data": {
            "text/plain": [
              "matrix([[2.87156477, 2.88486418],\n",
              "        [0.08397312, 1.47112137]])"
            ]
          },
          "metadata": {},
          "execution_count": 44
        }
      ]
    },
    {
      "cell_type": "code",
      "source": [
        "print(np.dot(A, D))"
      ],
      "metadata": {
        "colab": {
          "base_uri": "https://localhost:8080/"
        },
        "id": "aviybd7KXovU",
        "outputId": "dc8f0b7b-2f65-4afc-91b9-8c1fe0ccc46b"
      },
      "execution_count": null,
      "outputs": [
        {
          "output_type": "stream",
          "name": "stdout",
          "text": [
            "[[4.79480755 7.92340193]\n",
            " [0.65832002 1.59708104]]\n"
          ]
        }
      ]
    },
    {
      "cell_type": "code",
      "source": [
        "print(np.vdot(A, D))"
      ],
      "metadata": {
        "colab": {
          "base_uri": "https://localhost:8080/"
        },
        "id": "-efqQWUmXsFb",
        "outputId": "1e1953a2-0f0f-451d-cbdb-9cb8c0926535"
      },
      "execution_count": null,
      "outputs": [
        {
          "output_type": "stream",
          "name": "stdout",
          "text": [
            "[[2.87156477]]\n"
          ]
        }
      ]
    },
    {
      "cell_type": "code",
      "source": [
        "print(linalg.expm(A))"
      ],
      "metadata": {
        "colab": {
          "base_uri": "https://localhost:8080/"
        },
        "id": "jX0yxsT5XyUT",
        "outputId": "3daabb82-1800-48ea-b19e-a1bad1d5fa41"
      },
      "execution_count": null,
      "outputs": [
        {
          "output_type": "stream",
          "name": "stdout",
          "text": [
            "[[2.08578992 1.58153045]\n",
            " [0.06905319 1.30835688]]\n"
          ]
        }
      ]
    },
    {
      "cell_type": "code",
      "source": [
        "print(linalg.logm(A))"
      ],
      "metadata": {
        "colab": {
          "base_uri": "https://localhost:8080/"
        },
        "id": "MPLHWHvqX3Ap",
        "outputId": "459aa9a2-b4c2-4ad8-e359-23dd64fdbccd"
      },
      "execution_count": null,
      "outputs": [
        {
          "output_type": "stream",
          "name": "stdout",
          "text": [
            "[[-0.41574506  2.37248701]\n",
            " [ 0.10358813 -1.58198866]]\n"
          ]
        }
      ]
    },
    {
      "cell_type": "code",
      "source": [
        "#2.3. Ma trận hội tụ\n",
        "import numpy as np\n",
        "A = np.array([ [0,1], [1,0]])\n",
        "print(A)"
      ],
      "metadata": {
        "colab": {
          "base_uri": "https://localhost:8080/"
        },
        "id": "XGso24xlX9dJ",
        "outputId": "50fb2dca-4d93-4cda-ec46-0834ecb01355"
      },
      "execution_count": null,
      "outputs": [
        {
          "output_type": "stream",
          "name": "stdout",
          "text": [
            "[[0 1]\n",
            " [1 0]]\n"
          ]
        }
      ]
    },
    {
      "cell_type": "code",
      "source": [
        "temp = A.dot(A)\n",
        "print(temp)"
      ],
      "metadata": {
        "colab": {
          "base_uri": "https://localhost:8080/"
        },
        "id": "U9Ih9iSIYZwU",
        "outputId": "133e2a01-09bd-42c3-ba1a-8e5aef75d5ce"
      },
      "execution_count": null,
      "outputs": [
        {
          "output_type": "stream",
          "name": "stdout",
          "text": [
            "[[1 0]\n",
            " [0 1]]\n"
          ]
        }
      ]
    },
    {
      "cell_type": "code",
      "source": [
        "k= 6\n",
        "for i in range(k-1):\n",
        "    temp = temp.dot(A)\n",
        "    print (temp)\n",
        "    print('---')"
      ],
      "metadata": {
        "colab": {
          "base_uri": "https://localhost:8080/"
        },
        "id": "008eNanoYhXF",
        "outputId": "59cb1fe6-9aaf-4073-8760-43955999bc57"
      },
      "execution_count": null,
      "outputs": [
        {
          "output_type": "stream",
          "name": "stdout",
          "text": [
            "[[0 1]\n",
            " [1 0]]\n",
            "---\n",
            "[[1 0]\n",
            " [0 1]]\n",
            "---\n",
            "[[0 1]\n",
            " [1 0]]\n",
            "---\n",
            "[[1 0]\n",
            " [0 1]]\n",
            "---\n",
            "[[0 1]\n",
            " [1 0]]\n",
            "---\n"
          ]
        }
      ]
    },
    {
      "cell_type": "code",
      "source": [
        "B = np.array([ [0,-1], [-1,0]])\n",
        "print(B)"
      ],
      "metadata": {
        "colab": {
          "base_uri": "https://localhost:8080/"
        },
        "id": "RxGuN7OcYzY5",
        "outputId": "e492dd2d-dda2-4774-89e4-990e77d34248"
      },
      "execution_count": null,
      "outputs": [
        {
          "output_type": "stream",
          "name": "stdout",
          "text": [
            "[[ 0 -1]\n",
            " [-1  0]]\n"
          ]
        }
      ]
    },
    {
      "cell_type": "code",
      "source": [
        "temp = B.dot(B)\n",
        "print(temp)"
      ],
      "metadata": {
        "colab": {
          "base_uri": "https://localhost:8080/"
        },
        "id": "CD4FEpIRY32Q",
        "outputId": "251f0fe8-def3-491a-ec3f-e9f949896108"
      },
      "execution_count": null,
      "outputs": [
        {
          "output_type": "stream",
          "name": "stdout",
          "text": [
            "[[1 0]\n",
            " [0 1]]\n"
          ]
        }
      ]
    },
    {
      "cell_type": "code",
      "source": [
        "k= 5\n",
        "for i in range(k-1):\n",
        "  temp = temp.dot(B)\n",
        "  print (temp)\n",
        "print('---')"
      ],
      "metadata": {
        "colab": {
          "base_uri": "https://localhost:8080/"
        },
        "id": "ceVEvtsXY9Tj",
        "outputId": "a4f1d04e-974c-4dc0-cb43-7389a198400b"
      },
      "execution_count": null,
      "outputs": [
        {
          "output_type": "stream",
          "name": "stdout",
          "text": [
            "[[ 0 -1]\n",
            " [-1  0]]\n",
            "[[1 0]\n",
            " [0 1]]\n",
            "[[ 0 -1]\n",
            " [-1  0]]\n",
            "[[1 0]\n",
            " [0 1]]\n",
            "---\n"
          ]
        }
      ]
    },
    {
      "cell_type": "code",
      "source": [
        "C = np.array([ [1, 0, 0], [0, 0.5, 1], [0, 0, 0.5] ])\n",
        "print(C)"
      ],
      "metadata": {
        "colab": {
          "base_uri": "https://localhost:8080/"
        },
        "id": "6gFhyLwaZC-7",
        "outputId": "86946295-6e58-46bd-f902-5ed541db1947"
      },
      "execution_count": null,
      "outputs": [
        {
          "output_type": "stream",
          "name": "stdout",
          "text": [
            "[[1.  0.  0. ]\n",
            " [0.  0.5 1. ]\n",
            " [0.  0.  0.5]]\n"
          ]
        }
      ]
    },
    {
      "cell_type": "code",
      "source": [
        "temp = C.dot(C)\n",
        "print(temp)"
      ],
      "metadata": {
        "colab": {
          "base_uri": "https://localhost:8080/"
        },
        "id": "ZPxHyVhZZVHm",
        "outputId": "d5a2deb4-e56d-4e8d-ed0e-2109e2eb6b21"
      },
      "execution_count": null,
      "outputs": [
        {
          "output_type": "stream",
          "name": "stdout",
          "text": [
            "[[1.   0.   0.  ]\n",
            " [0.   0.25 1.  ]\n",
            " [0.   0.   0.25]]\n"
          ]
        }
      ]
    },
    {
      "cell_type": "code",
      "source": [
        " k= 1000\n",
        "for i in range(k-1):\n",
        "  temp = temp.dot(C)\n",
        "print(temp)"
      ],
      "metadata": {
        "colab": {
          "base_uri": "https://localhost:8080/"
        },
        "id": "YOY4eS9oZYoC",
        "outputId": "52f30e5a-99be-440f-c2bc-359fe38397bd"
      },
      "execution_count": null,
      "outputs": [
        {
          "output_type": "stream",
          "name": "stdout",
          "text": [
            "[[1. 0. 0.]\n",
            " [0. 0. 0.]\n",
            " [0. 0. 0.]]\n"
          ]
        }
      ]
    },
    {
      "cell_type": "code",
      "source": [
        "k= 1000\n",
        "for i in range(k-1):\n",
        "  temp = temp.dot(C)\n",
        "print(temp)"
      ],
      "metadata": {
        "colab": {
          "base_uri": "https://localhost:8080/"
        },
        "id": "6_Ru37K-Zeo6",
        "outputId": "b1c9715b-f2be-4e79-a686-44926398a8d6"
      },
      "execution_count": null,
      "outputs": [
        {
          "output_type": "stream",
          "name": "stdout",
          "text": [
            "[[1. 0. 0.]\n",
            " [0. 0. 0.]\n",
            " [0. 0. 0.]]\n"
          ]
        }
      ]
    },
    {
      "cell_type": "code",
      "source": [
        "#2.4. Ma trận Markov\n",
        "M = np.array([ [0.8, 0.3], [0.2, 0.7]])\n",
        "MM = M.dot(M)\n",
        "print (MM)"
      ],
      "metadata": {
        "colab": {
          "base_uri": "https://localhost:8080/"
        },
        "id": "fvanQ3VAaDAE",
        "outputId": "f71f6e85-5185-4359-a68d-a1c4aa26c7f7"
      },
      "execution_count": null,
      "outputs": [
        {
          "output_type": "stream",
          "name": "stdout",
          "text": [
            "[[0.7  0.45]\n",
            " [0.3  0.55]]\n"
          ]
        }
      ]
    },
    {
      "cell_type": "code",
      "source": [
        "MM = M.dot(M)\n",
        "print (MM)"
      ],
      "metadata": {
        "colab": {
          "base_uri": "https://localhost:8080/"
        },
        "id": "s67AMKD4aIXO",
        "outputId": "2893ef9a-bf01-40e2-8b93-c6db01d7a525"
      },
      "execution_count": null,
      "outputs": [
        {
          "output_type": "stream",
          "name": "stdout",
          "text": [
            "[[0.7  0.45]\n",
            " [0.3  0.55]]\n"
          ]
        }
      ]
    },
    {
      "cell_type": "code",
      "source": [
        "for i in range(100):\n",
        "  MM = MM.dot(M)\n",
        "print (MM)"
      ],
      "metadata": {
        "colab": {
          "base_uri": "https://localhost:8080/"
        },
        "id": "CvwhPuUwaLRD",
        "outputId": "79dce9e2-e533-4b5d-98b7-9b64025d41b6"
      },
      "execution_count": null,
      "outputs": [
        {
          "output_type": "stream",
          "name": "stdout",
          "text": [
            "[[0.6 0.6]\n",
            " [0.4 0.4]]\n"
          ]
        }
      ]
    },
    {
      "cell_type": "code",
      "source": [
        "#3.2. Phân rã ma trận LU\n",
        "M = np.array([ [0.8, 0.3], [0.2, 0.7]])\n",
        "P, L, U = linalg.lu(M)\n",
        "print (P)"
      ],
      "metadata": {
        "colab": {
          "base_uri": "https://localhost:8080/"
        },
        "id": "Lzk_3YdEaPlw",
        "outputId": "895b3ead-b749-4293-a65d-c4fbe2bbf9ab"
      },
      "execution_count": null,
      "outputs": [
        {
          "output_type": "stream",
          "name": "stdout",
          "text": [
            "[[1. 0.]\n",
            " [0. 1.]]\n"
          ]
        }
      ]
    },
    {
      "cell_type": "code",
      "source": [
        "print(L)"
      ],
      "metadata": {
        "colab": {
          "base_uri": "https://localhost:8080/"
        },
        "id": "gHTtIpo0aZBB",
        "outputId": "149fb725-2471-4cff-d568-88c15a00a075"
      },
      "execution_count": null,
      "outputs": [
        {
          "output_type": "stream",
          "name": "stdout",
          "text": [
            "[[1.   0.  ]\n",
            " [0.25 1.  ]]\n"
          ]
        }
      ]
    },
    {
      "cell_type": "code",
      "source": [
        "print(U)"
      ],
      "metadata": {
        "colab": {
          "base_uri": "https://localhost:8080/"
        },
        "id": "netfOabjabgx",
        "outputId": "3a6a2538-98cd-4859-d8e4-65e1e3f58303"
      },
      "execution_count": null,
      "outputs": [
        {
          "output_type": "stream",
          "name": "stdout",
          "text": [
            "[[0.8   0.3  ]\n",
            " [0.    0.625]]\n"
          ]
        }
      ]
    },
    {
      "cell_type": "code",
      "source": [
        "print(L.dot(U))"
      ],
      "metadata": {
        "colab": {
          "base_uri": "https://localhost:8080/"
        },
        "id": "dNrihMzoadC8",
        "outputId": "ef22990d-fa62-4b05-d2fe-e8eaca680fcd"
      },
      "execution_count": null,
      "outputs": [
        {
          "output_type": "stream",
          "name": "stdout",
          "text": [
            "[[0.8 0.3]\n",
            " [0.2 0.7]]\n"
          ]
        }
      ]
    },
    {
      "cell_type": "code",
      "source": [
        "#5. Bài toán ứng dụng 2 – Bài toán loan tin\n",
        "A = np.array([ [0,1,0,1],[0,0,1,0],[1,0,0,1],[1,1,0,0]])\n",
        "temp = A.dot(A)\n",
        "print(temp)"
      ],
      "metadata": {
        "colab": {
          "base_uri": "https://localhost:8080/"
        },
        "id": "ryNcW0YIag7P",
        "outputId": "ca10fd98-2095-447f-add4-04c648ba31d9"
      },
      "execution_count": null,
      "outputs": [
        {
          "output_type": "stream",
          "name": "stdout",
          "text": [
            "[[1 1 1 0]\n",
            " [1 0 0 1]\n",
            " [1 2 0 1]\n",
            " [0 1 1 1]]\n"
          ]
        }
      ]
    },
    {
      "cell_type": "code",
      "source": [
        "temp = temp.dot(A)\n",
        "print(temp)"
      ],
      "metadata": {
        "colab": {
          "base_uri": "https://localhost:8080/"
        },
        "id": "DMae0aTpbDtF",
        "outputId": "5c8df138-0d59-46b9-84e6-86771f44968a"
      },
      "execution_count": null,
      "outputs": [
        {
          "output_type": "stream",
          "name": "stdout",
          "text": [
            "[[1 1 1 2]\n",
            " [1 2 0 1]\n",
            " [1 2 2 1]\n",
            " [2 1 1 1]]\n"
          ]
        }
      ]
    },
    {
      "cell_type": "code",
      "source": [
        "A = np.array([ [0,1,0,1],[0,0,1,0],[1,0,0,1],[1,1,0,0]])\n",
        "sumA = A\n",
        "temp = A.dot(A)\n",
        "k = 3\n",
        "sumA = sumA + temp\n",
        "for i in range(1, k-1):\n",
        "  temp = temp.dot(A)\n",
        "  sumA = sumA + temp\n",
        "print (temp)\n",
        "print (sumA)"
      ],
      "metadata": {
        "colab": {
          "base_uri": "https://localhost:8080/"
        },
        "id": "ZnMvG9tebJzA",
        "outputId": "03889222-9c7b-4e32-cb4c-dc21fc80bee2"
      },
      "execution_count": null,
      "outputs": [
        {
          "output_type": "stream",
          "name": "stdout",
          "text": [
            "[[1 1 1 2]\n",
            " [1 2 0 1]\n",
            " [1 2 2 1]\n",
            " [2 1 1 1]]\n",
            "[[2 3 2 3]\n",
            " [2 2 1 2]\n",
            " [3 4 2 3]\n",
            " [3 3 2 2]]\n"
          ]
        }
      ]
    },
    {
      "cell_type": "code",
      "source": [
        "import numpy as np\n",
        "\n",
        "# a. Chọn ma trận khả nghịch 3x3\n",
        "A = np.array([[2, 1, 1],\n",
        "              [1, 3, 2],\n",
        "              [1, 0, 0]])\n",
        "print(\"Ma trận A:\")\n",
        "print(A)\n",
        "\n",
        "# Kiểm tra khả nghịch\n",
        "det_A = np.linalg.det(A)\n",
        "print(f\"Định thức của A: {det_A}\")\n",
        "assert det_A != 0, \"Ma trận không khả nghịch!\"\n",
        "# b. Chuỗi đầu vào\n",
        "text = \"NguyenVanA\"\n",
        "print(f\"Chuỗi gốc: {text}\")\n",
        "# c. Chuyển văn bản sang vector số\n",
        "def text_to_vector(text):\n",
        "    vec = [ord(c) for c in text]\n",
        "    while len(vec) % 3 != 0:\n",
        "        vec.append(0)\n",
        "    return np.array(vec).reshape(-1, 3).T\n",
        "P = text_to_vector(text)\n",
        "print(\"Vector P (mã ASCII):\")\n",
        "print(P)\n",
        "# d. Mã hóa\n",
        "C = A @ P\n",
        "print(\"Bản mã C:\")\n",
        "print(C)\n",
        "# Giải mã\n",
        "A_inv = np.linalg.inv(A)\n",
        "P_decoded = A_inv @ C\n",
        "decoded_text = ''.join([chr(round(num)) for num in P_decoded.T.flatten() if round(num) > 0])\n",
        "print(\"Giải mã văn bản:\")\n",
        "print(decoded_text)"
      ],
      "metadata": {
        "colab": {
          "base_uri": "https://localhost:8080/"
        },
        "id": "ncjBZTPabbGu",
        "outputId": "1be14c0b-3096-496e-f35f-3d1dcf9bf098"
      },
      "execution_count": 1,
      "outputs": [
        {
          "output_type": "stream",
          "name": "stdout",
          "text": [
            "Ma trận A:\n",
            "[[2 1 1]\n",
            " [1 3 2]\n",
            " [1 0 0]]\n",
            "Định thức của A: -1.0\n",
            "Chuỗi gốc: NguyenVanA\n",
            "Vector P (mã ASCII):\n",
            "[[ 78 121  86  65]\n",
            " [103 101  97   0]\n",
            " [117 110 110   0]]\n",
            "Bản mã C:\n",
            "[[376 453 379 130]\n",
            " [621 644 597  65]\n",
            " [ 78 121  86  65]]\n",
            "Giải mã văn bản:\n",
            "NguyenVanA\n"
          ]
        }
      ]
    },
    {
      "cell_type": "code",
      "source": [
        "import numpy as np\n",
        "\n",
        "def continued_fraction_pq(coeffs):\n",
        "    print(f\"Chuỗi hệ số: {coeffs}\")\n",
        "    M = np.array([[coeffs[0], 1],\n",
        "                  [1, 0]])\n",
        "    print(f\"M0:\\n{M}\")\n",
        "\n",
        "    for i, c in enumerate(coeffs[1:], 1):\n",
        "        M_step = np.array([[c, 1],\n",
        "                           [1, 0]])\n",
        "        print(f\"Bước {i}: Nhân với\\n{M_step}\")\n",
        "        M = M @ M_step\n",
        "        print(f\"Kết quả sau bước {i}:\\n{M}\")\n",
        "\n",
        "    result = M @ np.array([1, 0])\n",
        "    pn, qn = result\n",
        "    print(f\"p_n = {pn}, q_n = {qn}\")\n",
        "    return pn, qn\n",
        "\n",
        "# Ví dụ: 8/3 → [3, 1, 2] (tức 3 + 1/(1 + 1/2))\n",
        "coeffs = [3, 1, 2]\n",
        "pn, qn = continued_fraction_pq(coeffs)\n",
        "\n",
        "print(f\"\\n=> Phân số: {pn}/{qn} = {pn / qn}\")\n"
      ],
      "metadata": {
        "colab": {
          "base_uri": "https://localhost:8080/"
        },
        "id": "Y2Q1R1GekAqT",
        "outputId": "ac06bb8d-330d-42a5-e297-aae6410eae65"
      },
      "execution_count": null,
      "outputs": [
        {
          "output_type": "stream",
          "name": "stdout",
          "text": [
            "Chuỗi hệ số: [3, 1, 2]\n",
            "M0:\n",
            "[[3 1]\n",
            " [1 0]]\n",
            "Bước 1: Nhân với\n",
            "[[1 1]\n",
            " [1 0]]\n",
            "Kết quả sau bước 1:\n",
            "[[4 3]\n",
            " [1 1]]\n",
            "Bước 2: Nhân với\n",
            "[[2 1]\n",
            " [1 0]]\n",
            "Kết quả sau bước 2:\n",
            "[[11  4]\n",
            " [ 3  1]]\n",
            "p_n = 11, q_n = 3\n",
            "\n",
            "=> Phân số: 11/3 = 3.6666666666666665\n"
          ]
        }
      ]
    }
  ]
}