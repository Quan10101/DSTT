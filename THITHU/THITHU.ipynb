{
  "nbformat": 4,
  "nbformat_minor": 0,
  "metadata": {
    "colab": {
      "provenance": []
    },
    "kernelspec": {
      "name": "python3",
      "display_name": "Python 3"
    },
    "language_info": {
      "name": "python"
    }
  },
  "cells": [
    {
      "cell_type": "markdown",
      "source": [
        "BÀI THI THỬ"
      ],
      "metadata": {
        "id": "MNIjAE7eh4Yj"
      }
    },
    {
      "cell_type": "code",
      "source": [
        "# Câu 1a: Tổng và biểu thức tuyến tính\n",
        "import numpy as np\n",
        "A = np.array([2, -1, 3, 0])\n",
        "B = np.array([1, 4, -2, 5])\n",
        "tong = A + B\n",
        "bieu_thuc = 3*A - 2*B\n",
        "print(\"Tổng A + B:\", tong)\n",
        "print(\"Biểu thức 3A - 2B:\", bieu_thuc)"
      ],
      "metadata": {
        "colab": {
          "base_uri": "https://localhost:8080/"
        },
        "id": "VPcLWfJvh7I_",
        "outputId": "9064e367-e57d-4264-8f84-d2af456b7fd1"
      },
      "execution_count": 1,
      "outputs": [
        {
          "output_type": "stream",
          "name": "stdout",
          "text": [
            "Tổng A + B: [3 3 1 5]\n",
            "Biểu thức 3A - 2B: [  4 -11  13 -10]\n"
          ]
        }
      ]
    },
    {
      "cell_type": "code",
      "source": [
        "# Câu 1b: Tích vô hướng và góc giữa hai vector\n",
        "tich_vo_huong = np.dot(A, B)\n",
        "do_dai_A = np.linalg.norm(A)\n",
        "do_dai_B = np.linalg.norm(B)\n",
        "cos_goc = tich_vo_huong / (do_dai_A * do_dai_B)\n",
        "goc_do = np.degrees(np.arccos(cos_goc))\n",
        "print(\"Tích vô hướng A · B:\", tich_vo_huong)\n",
        "print(\"Góc giữa A và B (độ):\", goc_do)"
      ],
      "metadata": {
        "colab": {
          "base_uri": "https://localhost:8080/"
        },
        "id": "-_lNYKojjXGZ",
        "outputId": "c6790271-2a67-4a95-9529-4952c0f31261"
      },
      "execution_count": 2,
      "outputs": [
        {
          "output_type": "stream",
          "name": "stdout",
          "text": [
            "Tích vô hướng A · B: -8\n",
            "Góc giữa A và B (độ): 108.3755542856849\n"
          ]
        }
      ]
    },
    {
      "cell_type": "code",
      "source": [
        "# Câu 1b: Tích vô hướng và góc giữa hai vector\n",
        "tich_vo_huong = np.dot(A, B)\n",
        "do_dai_A = np.linalg.norm(A)\n",
        "do_dai_B = np.linalg.norm(B)\n",
        "cos_goc = tich_vo_huong / (do_dai_A * do_dai_B)\n",
        "goc_do = np.degrees(np.arccos(cos_goc))\n",
        "print(\"Tích vô hướng A · B:\", tich_vo_huong)\n",
        "print(\"Góc giữa A và B (độ):\", goc_do)"
      ],
      "metadata": {
        "colab": {
          "base_uri": "https://localhost:8080/"
        },
        "id": "ID8hPM8bjYw9",
        "outputId": "a66ecbd4-1f63-4628-db4f-302ff8b1bf96"
      },
      "execution_count": 3,
      "outputs": [
        {
          "output_type": "stream",
          "name": "stdout",
          "text": [
            "Tích vô hướng A · B: -8\n",
            "Góc giữa A và B (độ): 108.3755542856849\n"
          ]
        }
      ]
    },
    {
      "cell_type": "code",
      "source": [
        "# Câu 2a: Nhân ma trận\n",
        "M = np.array([[1,2,3,0],[4,5,6,1],[7,8,9,2],[0,1,1,0]])\n",
        "N = np.array([[0,1,2,3],[4,5,6,7],[8,9,10,11],[12,13,14,15]])\n",
        "tich_MN = np.dot(M, N)\n",
        "print(\"Tích M × N:\")\n",
        "print(tich_MN)"
      ],
      "metadata": {
        "colab": {
          "base_uri": "https://localhost:8080/"
        },
        "id": "SClqmi2AjbGZ",
        "outputId": "c6bc07a6-2ddd-444c-ed56-e7669c1df2f1"
      },
      "execution_count": 4,
      "outputs": [
        {
          "output_type": "stream",
          "name": "stdout",
          "text": [
            "Tích M × N:\n",
            "[[ 32  38  44  50]\n",
            " [ 80  96 112 128]\n",
            " [128 154 180 206]\n",
            " [ 12  14  16  18]]\n"
          ]
        }
      ]
    },
    {
      "cell_type": "code",
      "source": [
        "# Câu 2b: Định thức của M\n",
        "dinh_thuc_M = np.linalg.det(M)\n",
        "print(\"Định thức của M:\", dinh_thuc_M)"
      ],
      "metadata": {
        "colab": {
          "base_uri": "https://localhost:8080/"
        },
        "id": "Xc4hAa4TjdTW",
        "outputId": "09c31951-90fa-4341-f4af-46a93dcad45f"
      },
      "execution_count": 5,
      "outputs": [
        {
          "output_type": "stream",
          "name": "stdout",
          "text": [
            "Định thức của M: 6.66133814775094e-16\n"
          ]
        }
      ]
    },
    {
      "cell_type": "code",
      "source": [
        "# Câu 2c: Hạng của N\n",
        "hang_N = np.linalg.matrix_rank(N)\n",
        "print(\"Hạng của N:\", hang_N)"
      ],
      "metadata": {
        "colab": {
          "base_uri": "https://localhost:8080/"
        },
        "id": "lHYC5qV7jfb4",
        "outputId": "7237af97-23c1-4e90-ed9d-11691ffbe591"
      },
      "execution_count": 6,
      "outputs": [
        {
          "output_type": "stream",
          "name": "stdout",
          "text": [
            "Hạng của N: 2\n"
          ]
        }
      ]
    },
    {
      "cell_type": "code",
      "source": [
        "# Câu 3a: Nghịch đảo ma trận P\n",
        "P = np.array([[2,1,0,1],[0,3,1,-1],[1,0,4,2],[0,1,0,3]])\n",
        "P_nghich = np.linalg.inv(P)\n",
        "print(\"Ma trận nghịch đảo của P:\")\n",
        "print(P_nghich)"
      ],
      "metadata": {
        "colab": {
          "base_uri": "https://localhost:8080/"
        },
        "id": "zDqw3i7JjgdE",
        "outputId": "85cb5214-d0d0-4b3a-ae39-107a41d1b3ea"
      },
      "execution_count": 7,
      "outputs": [
        {
          "output_type": "stream",
          "name": "stdout",
          "text": [
            "Ma trận nghịch đảo của P:\n",
            "[[ 0.48837209 -0.09302326  0.02325581 -0.20930233]\n",
            " [ 0.03488372  0.27906977 -0.06976744  0.12790698]\n",
            " [-0.11627907  0.06976744  0.23255814 -0.09302326]\n",
            " [-0.01162791 -0.09302326  0.02325581  0.29069767]]\n"
          ]
        }
      ]
    },
    {
      "cell_type": "code",
      "source": [
        "# Câu 3b: Giải hệ phương trình Px = b\n",
        "b = np.array([4,7,9,5])\n",
        "x = np.dot(P_nghich, b)\n",
        "print(\"Nghiệm x của hệ phương trình Px = b:\")\n",
        "print(x)"
      ],
      "metadata": {
        "colab": {
          "base_uri": "https://localhost:8080/"
        },
        "id": "vCf48XgCjizn",
        "outputId": "93b1fa40-6db5-4f0c-df24-263f2d1b130a"
      },
      "execution_count": 8,
      "outputs": [
        {
          "output_type": "stream",
          "name": "stdout",
          "text": [
            "Nghiệm x của hệ phương trình Px = b:\n",
            "[0.46511628 2.10465116 1.65116279 0.96511628]\n"
          ]
        }
      ]
    },
    {
      "cell_type": "code",
      "source": [
        "# Câu 3c: Kiểm tra nghiệm\n",
        "kiem_tra = np.dot(P, x)\n",
        "print(\"Kiểm tra P · x có bằng b không:\")\n",
        "print(\"P · x =\", kiem_tra)\n",
        "print(\"b =\", b)"
      ],
      "metadata": {
        "colab": {
          "base_uri": "https://localhost:8080/"
        },
        "id": "0SP8xH1Cjj-t",
        "outputId": "1dcff2aa-009d-47dc-d366-1b15ff85edb5"
      },
      "execution_count": 9,
      "outputs": [
        {
          "output_type": "stream",
          "name": "stdout",
          "text": [
            "Kiểm tra P · x có bằng b không:\n",
            "P · x = [4. 7. 9. 5.]\n",
            "b = [4 7 9 5]\n"
          ]
        }
      ]
    },
    {
      "cell_type": "code",
      "source": [
        "# Câu 4a, b, c: Giá trị riêng, vector riêng, chuẩn hóa\n",
        "Q = np.array([[4, -1, 0], [1, 3, -2], [0, 1, 2]])\n",
        "gia_tri_rieng, vector_rieng = np.linalg.eig(Q)\n",
        "vector_chuan = vector_rieng / np.linalg.norm(vector_rieng, axis=0)\n",
        "print(\"Giá trị riêng:\")\n",
        "print(gia_tri_rieng)\n",
        "print(\"Vector riêng:\")\n",
        "print(vector_rieng)\n",
        "print(\"Vector riêng đã chuẩn hóa:\")\n",
        "print(vector_chuan)"
      ],
      "metadata": {
        "colab": {
          "base_uri": "https://localhost:8080/"
        },
        "id": "HVCB0Ge8jotd",
        "outputId": "1d8583c8-4a5b-4d02-efe9-6c9d60f54edb"
      },
      "execution_count": 10,
      "outputs": [
        {
          "output_type": "stream",
          "name": "stdout",
          "text": [
            "Giá trị riêng:\n",
            "[3.45339765+0.j         2.77330117+1.46771151j 2.77330117-1.46771151j]\n",
            "Vector riêng:\n",
            "[[ 0.83327121+0.j         -0.26206044-0.31354813j -0.26206044+0.31354813j]\n",
            " [ 0.455468  +0.j         -0.78166743+0.j         -0.78166743-0.j        ]\n",
            " [ 0.31338154+0.j         -0.21963176+0.41685708j -0.21963176-0.41685708j]]\n",
            "Vector riêng đã chuẩn hóa:\n",
            "[[ 0.83327121+0.j         -0.26206044-0.31354813j -0.26206044+0.31354813j]\n",
            " [ 0.455468  +0.j         -0.78166743+0.j         -0.78166743+0.j        ]\n",
            " [ 0.31338154+0.j         -0.21963176+0.41685708j -0.21963176-0.41685708j]]\n"
          ]
        }
      ]
    },
    {
      "cell_type": "code",
      "source": [
        "# Câu 5a: Giải hệ Rx = b\n",
        "R = np.array([[1,-2,3],[2,0,1],[-1,1,4]])\n",
        "b = np.array([10,8,7])\n",
        "x = np.linalg.solve(R, b)\n",
        "print(\"Nghiệm x của hệ Rx = b:\")\n",
        "print(x)"
      ],
      "metadata": {
        "colab": {
          "base_uri": "https://localhost:8080/"
        },
        "id": "Agoq1g6FjrYu",
        "outputId": "e2d5b757-c636-492e-bb4b-7e3f0f041208"
      },
      "execution_count": 11,
      "outputs": [
        {
          "output_type": "stream",
          "name": "stdout",
          "text": [
            "Nghiệm x của hệ Rx = b:\n",
            "[2.7826087  0.04347826 2.43478261]\n"
          ]
        }
      ]
    },
    {
      "cell_type": "code",
      "source": [
        "# Câu 5b: Giải lại bằng nghịch đảo\n",
        "R_nghich = np.linalg.inv(R)\n",
        "x2 = np.dot(R_nghich, b)\n",
        "print(\"Nghiệm x2 bằng nghịch đảo:\")\n",
        "print(x2)"
      ],
      "metadata": {
        "colab": {
          "base_uri": "https://localhost:8080/"
        },
        "id": "ZcINv3avjtiZ",
        "outputId": "7381f5c2-46c5-423f-821d-dd70d15d37cc"
      },
      "execution_count": 12,
      "outputs": [
        {
          "output_type": "stream",
          "name": "stdout",
          "text": [
            "Nghiệm x2 bằng nghịch đảo:\n",
            "[2.7826087  0.04347826 2.43478261]\n"
          ]
        }
      ]
    },
    {
      "cell_type": "code",
      "source": [
        "# Câu 5c: Chuẩn Frobenius\n",
        "chuan_fro = np.linalg.norm(R, 'fro')\n",
        "print(\"Chuẩn Frobenius của R:\", chuan_fro)"
      ],
      "metadata": {
        "colab": {
          "base_uri": "https://localhost:8080/"
        },
        "id": "BNhIh7MnjufU",
        "outputId": "02ae2169-4137-4a15-fd96-1aad80841938"
      },
      "execution_count": 13,
      "outputs": [
        {
          "output_type": "stream",
          "name": "stdout",
          "text": [
            "Chuẩn Frobenius của R: 6.082762530298219\n"
          ]
        }
      ]
    }
  ]
}