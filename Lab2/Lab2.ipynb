{
  "nbformat": 4,
  "nbformat_minor": 0,
  "metadata": {
    "colab": {
      "provenance": []
    },
    "kernelspec": {
      "name": "python3",
      "display_name": "Python 3"
    },
    "language_info": {
      "name": "python"
    }
  },
  "cells": [
    {
      "cell_type": "markdown",
      "source": [
        "#Bai Tap Tren Lop"
      ],
      "metadata": {
        "id": "Pu8KobX6XDPT"
      }
    },
    {
      "cell_type": "code",
      "source": [
        "#1. Dẫn nhập – Một số hàm về xử lý vector với Python\n",
        "def scale(a, v):\n",
        "  return [a*vi for vi in v]\n",
        "v = [3,5,7]\n",
        "scale(10, v)"
      ],
      "metadata": {
        "colab": {
          "base_uri": "https://localhost:8080/"
        },
        "id": "LSs906vVX8ta",
        "outputId": "41c5c067-9520-4cda-df35-97856abeb9ae"
      },
      "execution_count": null,
      "outputs": [
        {
          "output_type": "execute_result",
          "data": {
            "text/plain": [
              "[30, 50, 70]"
            ]
          },
          "metadata": {},
          "execution_count": 3
        }
      ]
    },
    {
      "cell_type": "code",
      "source": [
        "def sumvector(v, w):\n",
        "  return [vi+wi for (vi, wi) in zip(v, w)]\n",
        "v = [3,5,7]\n",
        "w = [2,4,6]\n",
        "sumvector(v, w)"
      ],
      "metadata": {
        "colab": {
          "base_uri": "https://localhost:8080/"
        },
        "id": "3-exPAy-YFs-",
        "outputId": "e4a0f8f1-de5d-4fac-95da-d76224c586ae"
      },
      "execution_count": null,
      "outputs": [
        {
          "output_type": "execute_result",
          "data": {
            "text/plain": [
              "[5, 9, 13]"
            ]
          },
          "metadata": {},
          "execution_count": 4
        }
      ]
    },
    {
      "cell_type": "code",
      "source": [
        "def dotvector(v, w):\n",
        "  return sum([vi*wi for (vi, wi) in zip(v, w)])\n",
        "dotvector(v, w)"
      ],
      "metadata": {
        "colab": {
          "base_uri": "https://localhost:8080/"
        },
        "id": "lkSYSJcgYNMH",
        "outputId": "62b1cb19-07e1-4755-fa32-fceab1ac135f"
      },
      "execution_count": null,
      "outputs": [
        {
          "output_type": "execute_result",
          "data": {
            "text/plain": [
              "68"
            ]
          },
          "metadata": {},
          "execution_count": 5
        }
      ]
    },
    {
      "cell_type": "code",
      "source": [
        "def lenvector(v):\n",
        "  return dotvector(v,v)\n",
        "lenvector(w)"
      ],
      "metadata": {
        "colab": {
          "base_uri": "https://localhost:8080/"
        },
        "id": "fC5zPFaZYVut",
        "outputId": "a3dbab89-78d4-4f54-df56-5d4bb78f5a5a"
      },
      "execution_count": null,
      "outputs": [
        {
          "output_type": "execute_result",
          "data": {
            "text/plain": [
              "56"
            ]
          },
          "metadata": {},
          "execution_count": 6
        }
      ]
    },
    {
      "cell_type": "code",
      "source": [
        "#2. Bài toán ứng dụng 1 – Phân loại tuyến tính\n",
        "import numpy as np\n",
        "scores  = np.array([-1, 1, 2, -3, 5, -4])\n",
        "scores >= 0"
      ],
      "metadata": {
        "colab": {
          "base_uri": "https://localhost:8080/"
        },
        "id": "Ar7jJsZPYbeT",
        "outputId": "2c72840d-ad07-4cca-f7bc-b3bb67479800"
      },
      "execution_count": null,
      "outputs": [
        {
          "output_type": "execute_result",
          "data": {
            "text/plain": [
              "array([False,  True,  True, False,  True, False])"
            ]
          },
          "metadata": {},
          "execution_count": 8
        }
      ]
    },
    {
      "cell_type": "code",
      "source": [
        "scores < 0"
      ],
      "metadata": {
        "colab": {
          "base_uri": "https://localhost:8080/"
        },
        "id": "snF-bHs0Ys5b",
        "outputId": "7b472837-8031-4926-8a66-a5eb497018e4"
      },
      "execution_count": null,
      "outputs": [
        {
          "output_type": "execute_result",
          "data": {
            "text/plain": [
              "array([ True, False, False,  True, False,  True])"
            ]
          },
          "metadata": {},
          "execution_count": 9
        }
      ]
    },
    {
      "cell_type": "code",
      "source": [
        "np.select([scores >= 0, scores < 0], ['so duong', 'so am'], default='khong xac dinh')"
      ],
      "metadata": {
        "colab": {
          "base_uri": "https://localhost:8080/"
        },
        "id": "K7e7B7twYwsG",
        "outputId": "eebd6c37-ddf1-4406-a637-2231dd0c048f"
      },
      "execution_count": null,
      "outputs": [
        {
          "output_type": "execute_result",
          "data": {
            "text/plain": [
              "array(['so am', 'so duong', 'so duong', 'so am', 'so duong', 'so am'],\n",
              "      dtype='<U14')"
            ]
          },
          "metadata": {},
          "execution_count": 14
        }
      ]
    },
    {
      "cell_type": "code",
      "source": [
        "scores  = np.array([-1, 1, 2, 0, -3, 5, 0, -4])\n",
        "np.select([scores >0, scores ==0, scores < 0],['so duong', 'so 0', 'so am'], default='khong xac dinh')"
      ],
      "metadata": {
        "colab": {
          "base_uri": "https://localhost:8080/"
        },
        "id": "SQmGi0zRZTY1",
        "outputId": "869bbf30-58c6-447e-9c97-8499dde9e9f8"
      },
      "execution_count": null,
      "outputs": [
        {
          "output_type": "execute_result",
          "data": {
            "text/plain": [
              "array(['so am', 'so duong', 'so duong', 'so 0', 'so am', 'so duong',\n",
              "       'so 0', 'so am'], dtype='<U14')"
            ]
          },
          "metadata": {},
          "execution_count": 16
        }
      ]
    },
    {
      "cell_type": "code",
      "source": [
        "#3. Thực hành xử lý ma trận\n",
        "import numpy as np\n",
        "import numpy as np\n",
        "from scipy import linalg, sparse\n",
        "D = np.asmatrix([ [3,4], [5,6] ])\n",
        "print(D)"
      ],
      "metadata": {
        "colab": {
          "base_uri": "https://localhost:8080/"
        },
        "id": "-dGrziNTaB-W",
        "outputId": "78aad9dc-2958-4bbb-b369-dc65b334b407"
      },
      "execution_count": null,
      "outputs": [
        {
          "output_type": "stream",
          "name": "stdout",
          "text": [
            "[[3 4]\n",
            " [5 6]]\n"
          ]
        }
      ]
    },
    {
      "cell_type": "code",
      "source": [
        "C = np.asmatrix(np.random.random((5,7)))\n",
        "print(C)"
      ],
      "metadata": {
        "colab": {
          "base_uri": "https://localhost:8080/"
        },
        "id": "KURs72PHZeEb",
        "outputId": "6d9069e9-7a4d-43b0-b513-922d4f9ef69f"
      },
      "execution_count": null,
      "outputs": [
        {
          "output_type": "stream",
          "name": "stdout",
          "text": [
            "[[0.8654149  0.13599874 0.90476338 0.45039373 0.50957153 0.3745783\n",
            "  0.39274925]\n",
            " [0.31312589 0.3821081  0.80015125 0.52887977 0.93022967 0.84192354\n",
            "  0.50609722]\n",
            " [0.17324731 0.42286709 0.23407283 0.08115    0.55103819 0.29438274\n",
            "  0.03725905]\n",
            " [0.15156697 0.47634587 0.3523153  0.60473931 0.26806096 0.03025916\n",
            "  0.81998815]\n",
            " [0.40711547 0.89582812 0.56418698 0.56492409 0.52880355 0.17557185\n",
            "  0.03298561]]\n"
          ]
        }
      ]
    },
    {
      "cell_type": "code",
      "source": [
        "A = np.asmatrix(np.random.random((2,2)))\n",
        "print(A)"
      ],
      "metadata": {
        "colab": {
          "base_uri": "https://localhost:8080/"
        },
        "id": "UdxCpl3Ua1Xh",
        "outputId": "a13fecbf-fdbe-4842-e8e6-e662841bf58b"
      },
      "execution_count": null,
      "outputs": [
        {
          "output_type": "stream",
          "name": "stdout",
          "text": [
            "[[0.06588782 0.92559338]\n",
            " [0.52976495 0.35100732]]\n"
          ]
        }
      ]
    },
    {
      "cell_type": "code",
      "source": [
        "b = np.array([(1+5j, 2j, 3j),(4, 5, 6)])\n",
        "B = np.asmatrix(b)\n",
        "print(b)\n",
        "print(B)"
      ],
      "metadata": {
        "colab": {
          "base_uri": "https://localhost:8080/"
        },
        "id": "wi7zYH1dcz8X",
        "outputId": "276d2b0f-5fb7-4019-efdc-db2e3bb352fc"
      },
      "execution_count": null,
      "outputs": [
        {
          "output_type": "stream",
          "name": "stdout",
          "text": [
            "[[1.+5.j 0.+2.j 0.+3.j]\n",
            " [4.+0.j 5.+0.j 6.+0.j]]\n",
            "[[1.+5.j 0.+2.j 0.+3.j]\n",
            " [4.+0.j 5.+0.j 6.+0.j]]\n"
          ]
        }
      ]
    },
    {
      "cell_type": "code",
      "source": [
        "A.T"
      ],
      "metadata": {
        "colab": {
          "base_uri": "https://localhost:8080/"
        },
        "id": "2I2CtY_Mc-U7",
        "outputId": "805d2854-1f0a-4ccc-9480-da63c4b243b7"
      },
      "execution_count": null,
      "outputs": [
        {
          "output_type": "execute_result",
          "data": {
            "text/plain": [
              "matrix([[0.06588782, 0.52976495],\n",
              "        [0.92559338, 0.35100732]])"
            ]
          },
          "metadata": {},
          "execution_count": 25
        }
      ]
    },
    {
      "cell_type": "code",
      "source": [
        "A.I"
      ],
      "metadata": {
        "colab": {
          "base_uri": "https://localhost:8080/"
        },
        "id": "YkOkWYX6c_gh",
        "outputId": "c549de05-98cc-4d7f-838e-968e7627e8f1"
      },
      "execution_count": null,
      "outputs": [
        {
          "output_type": "execute_result",
          "data": {
            "text/plain": [
              "matrix([[-0.75126804,  1.98106617],\n",
              "        [ 1.1338666 , -0.14102103]])"
            ]
          },
          "metadata": {},
          "execution_count": 26
        }
      ]
    },
    {
      "cell_type": "code",
      "source": [
        "linalg.inv(A)\n",
        "M = np.array([[-1,3,2],[0,2,1],[1,5,-2]])\n",
        "M_lower = np.tril(M)\n",
        "print(M_lower)"
      ],
      "metadata": {
        "colab": {
          "base_uri": "https://localhost:8080/"
        },
        "id": "TtNgzvcqdHGM",
        "outputId": "41d85f38-bd18-4fcd-f523-dd821095b6a4"
      },
      "execution_count": null,
      "outputs": [
        {
          "output_type": "stream",
          "name": "stdout",
          "text": [
            "[[-1  0  0]\n",
            " [ 0  2  0]\n",
            " [ 1  5 -2]]\n"
          ]
        }
      ]
    },
    {
      "cell_type": "code",
      "source": [
        "M = np.array([[-1,3,2],[0,2,1],[1,5,-2]])\n",
        "M_upper = np.triu(M)\n",
        "print(M_upper)"
      ],
      "metadata": {
        "colab": {
          "base_uri": "https://localhost:8080/"
        },
        "id": "W_heVIF0dZJ9",
        "outputId": "fe0467ee-588e-4dc3-e8c8-4853b1a7a026"
      },
      "execution_count": null,
      "outputs": [
        {
          "output_type": "stream",
          "name": "stdout",
          "text": [
            "[[-1  3  2]\n",
            " [ 0  2  1]\n",
            " [ 0  0 -2]]\n"
          ]
        }
      ]
    },
    {
      "cell_type": "code",
      "source": [
        "M = np.array([[-1,3,2],[0,2,1],[1,5,-2]])\n",
        "v_diag = np.diag(M)\n",
        "print (v_diag)\n",
        "M_diag = np.diag(v_diag)\n",
        "print (M_diag)"
      ],
      "metadata": {
        "colab": {
          "base_uri": "https://localhost:8080/"
        },
        "id": "Zfo2L7VxdeTf",
        "outputId": "d0edf757-0baa-42af-948d-fa2caf6b76bc"
      },
      "execution_count": null,
      "outputs": [
        {
          "output_type": "stream",
          "name": "stdout",
          "text": [
            "[-1  2 -2]\n",
            "[[-1  0  0]\n",
            " [ 0  2  0]\n",
            " [ 0  0 -2]]\n"
          ]
        }
      ]
    },
    {
      "cell_type": "code",
      "source": [
        "import sympy as sp\n",
        "x = sp.Symbol('x')\n",
        "y = sp.Symbol('y')\n",
        "z = sp.Symbol('z')\n",
        "sp.solve([x*x+2-6, y-1-6,x+z-1, 2*x*x-8, z*z+4-5,y-z-8], [x, y, z])"
      ],
      "metadata": {
        "colab": {
          "base_uri": "https://localhost:8080/"
        },
        "id": "Qa2sfxIGdsow",
        "outputId": "7953ec44-82bc-4970-a788-bd4d41a6063e"
      },
      "execution_count": null,
      "outputs": [
        {
          "output_type": "execute_result",
          "data": {
            "text/plain": [
              "[(2, 7, -1)]"
            ]
          },
          "metadata": {},
          "execution_count": 33
        }
      ]
    },
    {
      "cell_type": "code",
      "source": [
        "x = [1, 2, 3]\n",
        "y = [1, 2, 3]\n",
        "print(all([x[i] == y[i] for i in range(len(x))]))"
      ],
      "metadata": {
        "id": "d4rIsM4rhsmr",
        "colab": {
          "base_uri": "https://localhost:8080/"
        },
        "outputId": "c89ebc73-65d7-4130-8c9e-680c84265ba9"
      },
      "execution_count": null,
      "outputs": [
        {
          "output_type": "stream",
          "name": "stdout",
          "text": [
            "True\n"
          ]
        }
      ]
    },
    {
      "cell_type": "code",
      "source": [
        "y = [1, 2, 4]\n",
        "print(all([x[i] == y[i] for i in range(len(x))]))"
      ],
      "metadata": {
        "colab": {
          "base_uri": "https://localhost:8080/"
        },
        "id": "o1x0eoiXMIa7",
        "outputId": "4436e28f-3fcf-4bee-bf05-7b753f479d62"
      },
      "execution_count": null,
      "outputs": [
        {
          "output_type": "stream",
          "name": "stdout",
          "text": [
            "False\n"
          ]
        }
      ]
    },
    {
      "cell_type": "code",
      "source": [
        "import numpy as np\n",
        "np.array_equal([1, 2], [1, 2])"
      ],
      "metadata": {
        "colab": {
          "base_uri": "https://localhost:8080/"
        },
        "id": "sfuFuAcvMQnx",
        "outputId": "0b10d42e-fe8a-4b7e-feb6-9c7f2cf3b3cf"
      },
      "execution_count": null,
      "outputs": [
        {
          "output_type": "execute_result",
          "data": {
            "text/plain": [
              "True"
            ]
          },
          "metadata": {},
          "execution_count": 4
        }
      ]
    },
    {
      "cell_type": "code",
      "source": [
        "np.array_equal(np.array([1, 2]), np.array([1, 2]))"
      ],
      "metadata": {
        "colab": {
          "base_uri": "https://localhost:8080/"
        },
        "id": "p8mVdCwUMZfk",
        "outputId": "e8c19941-4006-4887-c883-a6972b4ebb49"
      },
      "execution_count": null,
      "outputs": [
        {
          "output_type": "execute_result",
          "data": {
            "text/plain": [
              "True"
            ]
          },
          "metadata": {},
          "execution_count": 6
        }
      ]
    },
    {
      "cell_type": "code",
      "source": [
        "import numpy as np\n",
        "A = np.reshape(np.arange(36.0), (6,6))\n",
        "print(A)"
      ],
      "metadata": {
        "colab": {
          "base_uri": "https://localhost:8080/"
        },
        "id": "iGzjlaOmMtmw",
        "outputId": "2ad4b5c8-d671-46db-9411-d64c6b412606"
      },
      "execution_count": null,
      "outputs": [
        {
          "output_type": "stream",
          "name": "stdout",
          "text": [
            "[[ 0.  1.  2.  3.  4.  5.]\n",
            " [ 6.  7.  8.  9. 10. 11.]\n",
            " [12. 13. 14. 15. 16. 17.]\n",
            " [18. 19. 20. 21. 22. 23.]\n",
            " [24. 25. 26. 27. 28. 29.]\n",
            " [30. 31. 32. 33. 34. 35.]]\n"
          ]
        }
      ]
    },
    {
      "cell_type": "code",
      "source": [
        "I6 = np.identity(6)\n",
        "print(I6)"
      ],
      "metadata": {
        "colab": {
          "base_uri": "https://localhost:8080/"
        },
        "id": "6krWfwbZMzAU",
        "outputId": "b6c1cdc9-d02f-4e38-d5c0-2f07dcb81e91"
      },
      "execution_count": null,
      "outputs": [
        {
          "output_type": "stream",
          "name": "stdout",
          "text": [
            "[[1. 0. 0. 0. 0. 0.]\n",
            " [0. 1. 0. 0. 0. 0.]\n",
            " [0. 0. 1. 0. 0. 0.]\n",
            " [0. 0. 0. 1. 0. 0.]\n",
            " [0. 0. 0. 0. 1. 0.]\n",
            " [0. 0. 0. 0. 0. 1.]]\n"
          ]
        }
      ]
    },
    {
      "cell_type": "code",
      "source": [
        "A.size"
      ],
      "metadata": {
        "colab": {
          "base_uri": "https://localhost:8080/"
        },
        "id": "k7fWmXG1M5rm",
        "outputId": "5123660a-e204-4298-cc18-a3ebfebe69b2"
      },
      "execution_count": null,
      "outputs": [
        {
          "output_type": "execute_result",
          "data": {
            "text/plain": [
              "36"
            ]
          },
          "metadata": {},
          "execution_count": 9
        }
      ]
    },
    {
      "cell_type": "code",
      "source": [
        "np.matrix.diagonal(A)"
      ],
      "metadata": {
        "colab": {
          "base_uri": "https://localhost:8080/"
        },
        "id": "k4mGQNWYM8b-",
        "outputId": "fada7338-a7be-4b91-c497-90f3a52dcb15"
      },
      "execution_count": null,
      "outputs": [
        {
          "output_type": "execute_result",
          "data": {
            "text/plain": [
              "array([ 0.,  7., 14., 21., 28., 35.])"
            ]
          },
          "metadata": {},
          "execution_count": 10
        }
      ]
    },
    {
      "cell_type": "code",
      "source": [
        "A = A + I6\n",
        "print(A)"
      ],
      "metadata": {
        "colab": {
          "base_uri": "https://localhost:8080/"
        },
        "id": "vZpJKLIoM-u1",
        "outputId": "06342b1d-9351-4e80-b9b5-94506aca9e12"
      },
      "execution_count": null,
      "outputs": [
        {
          "output_type": "stream",
          "name": "stdout",
          "text": [
            "[[ 1.  1.  2.  3.  4.  5.]\n",
            " [ 6.  8.  8.  9. 10. 11.]\n",
            " [12. 13. 15. 15. 16. 17.]\n",
            " [18. 19. 20. 22. 22. 23.]\n",
            " [24. 25. 26. 27. 29. 29.]\n",
            " [30. 31. 32. 33. 34. 36.]]\n"
          ]
        }
      ]
    },
    {
      "cell_type": "code",
      "source": [
        "vecB = np.array([1., 2., 3., 4., 5., 6.])\n",
        "C = A.dot(vecB)\n",
        "print(C)"
      ],
      "metadata": {
        "colab": {
          "base_uri": "https://localhost:8080/"
        },
        "id": "xfx0L66YNAxK",
        "outputId": "a946a375-4b8d-4762-ec3f-ff90b11e32a1"
      },
      "execution_count": null,
      "outputs": [
        {
          "output_type": "stream",
          "name": "stdout",
          "text": [
            "[ 71. 198. 325. 452. 579. 706.]\n"
          ]
        }
      ]
    },
    {
      "cell_type": "code",
      "source": [
        "D = np.array([[1., 2., 3., 4., 5., 6.], [1., 0., 1., 0., 1., 0.]])\n",
        "print(D)"
      ],
      "metadata": {
        "colab": {
          "base_uri": "https://localhost:8080/"
        },
        "id": "gSDSiaMjNG7Y",
        "outputId": "7e05c1e5-54ea-430d-e86a-b8f006c110b2"
      },
      "execution_count": null,
      "outputs": [
        {
          "output_type": "stream",
          "name": "stdout",
          "text": [
            "[[1. 2. 3. 4. 5. 6.]\n",
            " [1. 0. 1. 0. 1. 0.]]\n"
          ]
        }
      ]
    },
    {
      "cell_type": "code",
      "source": [
        "import numpy as np\n",
        "A = np.reshape(np.arange(36.0), (6,6))\n",
        "I6 = np.identity(6)\n",
        "A = A + I6\n",
        "D = np.array([[1., 2., 3., 4., 5., 6.], [1., 0., 1., 0., 1., 0.]])\n",
        "E = A.dot(D.T)\n",
        "print(E)"
      ],
      "metadata": {
        "colab": {
          "base_uri": "https://localhost:8080/"
        },
        "id": "aKjybeX9NKE6",
        "outputId": "594905c0-5e82-434c-ba98-7cffa5ea26d1"
      },
      "execution_count": null,
      "outputs": [
        {
          "output_type": "stream",
          "name": "stdout",
          "text": [
            "[[ 71.   7.]\n",
            " [198.  24.]\n",
            " [325.  43.]\n",
            " [452.  60.]\n",
            " [579.  79.]\n",
            " [706.  96.]]\n"
          ]
        }
      ]
    },
    {
      "cell_type": "code",
      "source": [
        "F = np.array([[1., 1.], [2., 0.], [3., 1.], [4., 0], [5., 1], [6., 0.]])\n",
        "G = A.dot(F)\n",
        "print(F)"
      ],
      "metadata": {
        "colab": {
          "base_uri": "https://localhost:8080/"
        },
        "id": "tzDLQDcON8yI",
        "outputId": "7f3a1b2e-caa1-484b-aa6b-954db7ba21dd"
      },
      "execution_count": null,
      "outputs": [
        {
          "output_type": "stream",
          "name": "stdout",
          "text": [
            "[[1. 1.]\n",
            " [2. 0.]\n",
            " [3. 1.]\n",
            " [4. 0.]\n",
            " [5. 1.]\n",
            " [6. 0.]]\n"
          ]
        }
      ]
    },
    {
      "cell_type": "code",
      "source": [
        "print(G)"
      ],
      "metadata": {
        "colab": {
          "base_uri": "https://localhost:8080/"
        },
        "id": "-jyyeeu4ODzm",
        "outputId": "642fe50e-8528-4e9c-e1e5-76f5989fec01"
      },
      "execution_count": null,
      "outputs": [
        {
          "output_type": "stream",
          "name": "stdout",
          "text": [
            "[[ 71.   7.]\n",
            " [198.  24.]\n",
            " [325.  43.]\n",
            " [452.  60.]\n",
            " [579.  79.]\n",
            " [706.  96.]]\n"
          ]
        }
      ]
    },
    {
      "cell_type": "code",
      "source": [
        "np.linalg.inv(A)"
      ],
      "metadata": {
        "colab": {
          "base_uri": "https://localhost:8080/"
        },
        "id": "ZApfL5K8OFwg",
        "outputId": "961cf7ce-bb3f-4135-cd71-62730f1b852d"
      },
      "execution_count": null,
      "outputs": [
        {
          "output_type": "execute_result",
          "data": {
            "text/plain": [
              "array([[ 0.37022901, -0.45610687, -0.28244275, -0.10877863,  0.0648855 ,\n",
              "         0.23854962],\n",
              "       [-0.44656489,  0.65839695, -0.23664122, -0.13167939, -0.02671756,\n",
              "         0.07824427],\n",
              "       [-0.26335878, -0.22709924,  0.80916031, -0.15458015, -0.11832061,\n",
              "        -0.08206107],\n",
              "       [-0.08015267, -0.11259542, -0.14503817,  0.82251908, -0.20992366,\n",
              "        -0.24236641],\n",
              "       [ 0.10305344,  0.0019084 , -0.09923664, -0.20038168,  0.69847328,\n",
              "        -0.40267176],\n",
              "       [ 0.28625954,  0.11641221, -0.05343511, -0.22328244, -0.39312977,\n",
              "         0.4370229 ]])"
            ]
          },
          "metadata": {},
          "execution_count": 18
        }
      ]
    },
    {
      "cell_type": "code",
      "source": [
        "np.linalg.inv(np.linalg.inv(A))"
      ],
      "metadata": {
        "colab": {
          "base_uri": "https://localhost:8080/"
        },
        "id": "nl0hulJgOHSA",
        "outputId": "fea4e5a1-27f8-4b37-c9fd-fa92252b5e8c"
      },
      "execution_count": null,
      "outputs": [
        {
          "output_type": "execute_result",
          "data": {
            "text/plain": [
              "array([[ 1.,  1.,  2.,  3.,  4.,  5.],\n",
              "       [ 6.,  8.,  8.,  9., 10., 11.],\n",
              "       [12., 13., 15., 15., 16., 17.],\n",
              "       [18., 19., 20., 22., 22., 23.],\n",
              "       [24., 25., 26., 27., 29., 29.],\n",
              "       [30., 31., 32., 33., 34., 36.]])"
            ]
          },
          "metadata": {},
          "execution_count": 19
        }
      ]
    },
    {
      "cell_type": "code",
      "source": [
        "#4. Bài toán ứng dụng 2 – Tính toán dãy Fibonacci: Con đường tìm đến tỉ số vàng!\n",
        "import numpy as np\n",
        "A = np.array( [ [1,1], [1,0] ] )\n",
        "b = np.array([1, 0])\n",
        "n = 10\n",
        "for i in range(n):\n",
        "  b = A.dot(b)\n",
        "  print(b)"
      ],
      "metadata": {
        "colab": {
          "base_uri": "https://localhost:8080/"
        },
        "id": "MNg0lzrNOI5o",
        "outputId": "00212a06-f33f-45c5-fb3f-68f5e3a3d8ff"
      },
      "execution_count": null,
      "outputs": [
        {
          "output_type": "stream",
          "name": "stdout",
          "text": [
            "[1 1]\n",
            "[2 1]\n",
            "[3 2]\n",
            "[5 3]\n",
            "[8 5]\n",
            "[13  8]\n",
            "[21 13]\n",
            "[34 21]\n",
            "[55 34]\n",
            "[89 55]\n"
          ]
        }
      ]
    },
    {
      "cell_type": "code",
      "source": [
        "import sympy as sp\n",
        "from sympy import Symbol\n",
        "x1 = Symbol('x1')\n",
        "x2 = Symbol('x2')\n",
        "x3 = Symbol('x3')\n",
        "x4 = Symbol('x4')\n",
        "from sympy import solve\n",
        "pt1 = x4+610-450-x1\n",
        "pt2 = x1+400-x2-640\n",
        "pt3 = x2+600-x3\n",
        "pt4 = x3-x4-520\n",
        "nghiem = sp.solve((pt1, pt2, pt3, pt4))\n",
        "nghiem"
      ],
      "metadata": {
        "colab": {
          "base_uri": "https://localhost:8080/"
        },
        "id": "ltNMd8ciOUWt",
        "outputId": "0c88229f-9330-4966-91ff-22238e0e0e49"
      },
      "execution_count": null,
      "outputs": [
        {
          "output_type": "execute_result",
          "data": {
            "text/plain": [
              "{x1: x4 + 160, x2: x4 - 80, x3: x4 + 520}"
            ]
          },
          "metadata": {},
          "execution_count": 21
        }
      ]
    },
    {
      "cell_type": "code",
      "source": [
        "import numpy as np\n",
        "A = np.matrix([[1, 0, 0, 0],\n",
        "               [0, 1, 0, 0],\n",
        "               [0, 0, 1, 0],\n",
        "               [0, 0, 0, 1]])\n",
        "A_nghichdao = np.linalg.inv(A)\n",
        "print(A_nghichdao)"
      ],
      "metadata": {
        "colab": {
          "base_uri": "https://localhost:8080/"
        },
        "id": "vQvnr083Oiiv",
        "outputId": "789cb4b2-43d0-49e4-be04-762b2ed89564"
      },
      "execution_count": null,
      "outputs": [
        {
          "output_type": "stream",
          "name": "stdout",
          "text": [
            "[[1. 0. 0. 0.]\n",
            " [0. 1. 0. 0.]\n",
            " [0. 0. 1. 0.]\n",
            " [0. 0. 0. 1.]]\n"
          ]
        }
      ]
    },
    {
      "cell_type": "markdown",
      "source": [
        "BÀI TẬP VỀ NHÀ"
      ],
      "metadata": {
        "id": "Yka2Msv85omI"
      }
    },
    {
      "cell_type": "code",
      "source": [
        "#câu 1\n",
        "import numpy as np\n",
        "A1 = np.array([[1, -1], [2, 3]])\n",
        "b1 = np.array([-2, 6])\n",
        "sol1 = np.linalg.solve(A1, b1)\n",
        "print(sol1)"
      ],
      "metadata": {
        "id": "xmPuKpfbOvvp",
        "colab": {
          "base_uri": "https://localhost:8080/"
        },
        "outputId": "65fe53dd-5153-4a40-cfcc-81c1fb9b3824"
      },
      "execution_count": null,
      "outputs": [
        {
          "output_type": "stream",
          "name": "stdout",
          "text": [
            "[0. 2.]\n"
          ]
        }
      ]
    },
    {
      "cell_type": "code",
      "source": [
        "A2 = np.array([[1, -1, 0], [2, -1, -1], [1, 1, 1]])\n",
        "b2 = np.array([2, 3, 6])\n",
        "sol2 = np.linalg.solve(A2, b2)\n",
        "print(sol2)"
      ],
      "metadata": {
        "colab": {
          "base_uri": "https://localhost:8080/"
        },
        "id": "X-cFVTvuG0Ht",
        "outputId": "5c22be8b-a7cb-48a6-e25f-fd30c7a05490"
      },
      "execution_count": null,
      "outputs": [
        {
          "output_type": "stream",
          "name": "stdout",
          "text": [
            "[3. 1. 2.]\n"
          ]
        }
      ]
    },
    {
      "cell_type": "code",
      "source": [
        "A3 = np.array([[1, 1, 1], [4, 2, 1], [9, 3, 1]])\n",
        "b3 = np.array([4, 3, 4])\n",
        "sol3 = np.linalg.solve(A3, b3)\n",
        "print(sol3)"
      ],
      "metadata": {
        "colab": {
          "base_uri": "https://localhost:8080/"
        },
        "id": "kqNkr_ZtG2ux",
        "outputId": "dd8a330d-3305-4a62-8e0e-f3631b1f5230"
      },
      "execution_count": null,
      "outputs": [
        {
          "output_type": "stream",
          "name": "stdout",
          "text": [
            "[ 1. -4.  7.]\n"
          ]
        }
      ]
    },
    {
      "cell_type": "code",
      "source": [
        "A4 = np.array([[1, 0, 1], [1, 1, -2], [-2, 2, 1]])\n",
        "b4 = np.array([1, -3, 0])\n",
        "sol4 = np.linalg.solve(A4, b4)\n",
        "print(sol4)"
      ],
      "metadata": {
        "colab": {
          "base_uri": "https://localhost:8080/"
        },
        "id": "Gp2XtTPFG7U3",
        "outputId": "972e4c2b-96d3-498b-9541-8a5cbf5bcf80"
      },
      "execution_count": null,
      "outputs": [
        {
          "output_type": "stream",
          "name": "stdout",
          "text": [
            "[-0.11111111 -0.66666667  1.11111111]\n"
          ]
        }
      ]
    },
    {
      "cell_type": "code",
      "source": [
        "#câu 2\n",
        "from sympy import symbols, Eq, solve, Matrix\n",
        "x, y = symbols('x y')\n",
        "eq1 = Eq(x - y, -2)\n",
        "eq2 = Eq(2*x + 3*y, 6)\n",
        "sol1 = solve((eq1, eq2), (x, y))\n",
        "print(sol1)"
      ],
      "metadata": {
        "colab": {
          "base_uri": "https://localhost:8080/"
        },
        "id": "57dERuKXHf_L",
        "outputId": "577868c7-b0b8-4a28-d24f-5bac00ba75bd"
      },
      "execution_count": null,
      "outputs": [
        {
          "output_type": "stream",
          "name": "stdout",
          "text": [
            "{x: 0, y: 2}\n"
          ]
        }
      ]
    },
    {
      "cell_type": "code",
      "source": [
        "x, y, z = symbols('x y z')\n",
        "eq3 = Eq(x - y, 2)\n",
        "eq4 = Eq(2*x - y - z, 3)\n",
        "eq5 = Eq(x + y + z, 6)\n",
        "sol2 = solve((eq3, eq4, eq5), (x, y, z))\n",
        "print(sol2)"
      ],
      "metadata": {
        "colab": {
          "base_uri": "https://localhost:8080/"
        },
        "id": "XFjGoHfhHgqL",
        "outputId": "168801d7-a570-48d4-f4b9-12332fd9d28d"
      },
      "execution_count": null,
      "outputs": [
        {
          "output_type": "stream",
          "name": "stdout",
          "text": [
            "{x: 3, y: 1, z: 2}\n"
          ]
        }
      ]
    },
    {
      "cell_type": "code",
      "source": [
        "a, b, c = symbols('a b c')\n",
        "eq6 = Eq(a + b + c, 4)\n",
        "eq7 = Eq(4*a + 2*b + c, 3)\n",
        "eq8 = Eq(9*a + 3*b + c, 4)\n",
        "sol3 = solve((eq6, eq7, eq8), (a, b, c))\n",
        "print(sol3)"
      ],
      "metadata": {
        "colab": {
          "base_uri": "https://localhost:8080/"
        },
        "id": "znjFnEcrHkiP",
        "outputId": "d8f458e0-a147-46d3-9aa0-3d50584fd16e"
      },
      "execution_count": null,
      "outputs": [
        {
          "output_type": "stream",
          "name": "stdout",
          "text": [
            "{a: 1, b: -4, c: 7}\n"
          ]
        }
      ]
    },
    {
      "cell_type": "code",
      "source": [
        "eq9 = Eq(a + c, 1)\n",
        "eq10 = Eq(a + b - 2*c, -3)\n",
        "eq11 = Eq(-2*a + 2*b + c, 0)\n",
        "sol4 = solve((eq9, eq10, eq11), (a, b, c))\n",
        "print(sol4)"
      ],
      "metadata": {
        "colab": {
          "base_uri": "https://localhost:8080/"
        },
        "id": "v2uQYimjHlyD",
        "outputId": "dcc7df83-d898-4b08-cef2-c3fed6c5013b"
      },
      "execution_count": null,
      "outputs": [
        {
          "output_type": "stream",
          "name": "stdout",
          "text": [
            "{a: -1/9, b: -2/3, c: 10/9}\n"
          ]
        }
      ]
    },
    {
      "cell_type": "code",
      "source": [
        "#câu 3\n",
        "from sympy import Matrix, pprint\n",
        "def fibonacci_matrix(k):\n",
        "    F = Matrix([[1, 1], [1, 0]])\n",
        "    return F**k\n",
        "def fibonacci_sequence(n):\n",
        "    fib = [0, 1]\n",
        "    for _ in range(2, n + 1):\n",
        "        fib.append(fib[-1] + fib[-2])\n",
        "    return fib\n",
        "n = 10\n",
        "fib = fibonacci_sequence(n + 1)\n",
        "for k in range(1, n + 1):\n",
        "    Fk = fibonacci_matrix(k)\n",
        "    a = Fk[0, 0]\n",
        "    b = Fk[0, 1]\n",
        "    c = Fk[1, 1]\n",
        "    print(f\"F^{k} =\")\n",
        "    pprint(Fk)\n",
        "    print(f\"=> Fib_{k+1} = {a}, Fib_{k} = {b}, Fib_{k-1} = {c}\")\n",
        "    print(f\"Check: {a == fib[k+1] and b == fib[k] and c == fib[k-1]}\")\n",
        "    print()"
      ],
      "metadata": {
        "colab": {
          "base_uri": "https://localhost:8080/"
        },
        "id": "hFccx6H3Hs0D",
        "outputId": "62cf4f60-4263-4f7c-e186-e607c1d4b166"
      },
      "execution_count": null,
      "outputs": [
        {
          "output_type": "stream",
          "name": "stdout",
          "text": [
            "F^1 =\n",
            "⎡1  1⎤\n",
            "⎢    ⎥\n",
            "⎣1  0⎦\n",
            "=> Fib_2 = 1, Fib_1 = 1, Fib_0 = 0\n",
            "Check: True\n",
            "\n",
            "F^2 =\n",
            "⎡2  1⎤\n",
            "⎢    ⎥\n",
            "⎣1  1⎦\n",
            "=> Fib_3 = 2, Fib_2 = 1, Fib_1 = 1\n",
            "Check: True\n",
            "\n",
            "F^3 =\n",
            "⎡3  2⎤\n",
            "⎢    ⎥\n",
            "⎣2  1⎦\n",
            "=> Fib_4 = 3, Fib_3 = 2, Fib_2 = 1\n",
            "Check: True\n",
            "\n",
            "F^4 =\n",
            "⎡5  3⎤\n",
            "⎢    ⎥\n",
            "⎣3  2⎦\n",
            "=> Fib_5 = 5, Fib_4 = 3, Fib_3 = 2\n",
            "Check: True\n",
            "\n",
            "F^5 =\n",
            "⎡8  5⎤\n",
            "⎢    ⎥\n",
            "⎣5  3⎦\n",
            "=> Fib_6 = 8, Fib_5 = 5, Fib_4 = 3\n",
            "Check: True\n",
            "\n",
            "F^6 =\n",
            "⎡13  8⎤\n",
            "⎢     ⎥\n",
            "⎣8   5⎦\n",
            "=> Fib_7 = 13, Fib_6 = 8, Fib_5 = 5\n",
            "Check: True\n",
            "\n",
            "F^7 =\n",
            "⎡21  13⎤\n",
            "⎢      ⎥\n",
            "⎣13  8 ⎦\n",
            "=> Fib_8 = 21, Fib_7 = 13, Fib_6 = 8\n",
            "Check: True\n",
            "\n",
            "F^8 =\n",
            "⎡34  21⎤\n",
            "⎢      ⎥\n",
            "⎣21  13⎦\n",
            "=> Fib_9 = 34, Fib_8 = 21, Fib_7 = 13\n",
            "Check: True\n",
            "\n",
            "F^9 =\n",
            "⎡55  34⎤\n",
            "⎢      ⎥\n",
            "⎣34  21⎦\n",
            "=> Fib_10 = 55, Fib_9 = 34, Fib_8 = 21\n",
            "Check: True\n",
            "\n",
            "F^10 =\n",
            "⎡89  55⎤\n",
            "⎢      ⎥\n",
            "⎣55  34⎦\n",
            "=> Fib_11 = 89, Fib_10 = 55, Fib_9 = 34\n",
            "Check: True\n",
            "\n"
          ]
        }
      ]
    }
  ]
}